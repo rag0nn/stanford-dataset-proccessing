{
 "cells": [
  {
   "cell_type": "code",
   "execution_count": null,
   "id": "df7ce5f6",
   "metadata": {},
   "outputs": [],
   "source": [
    "1 : txt dosyasına ulaş ve gerekli dönüşümleri yaparak bboxlara çevir\n",
    "2 : videoya ulaş ardından bboxlarla beraber ayrım işlemi yap"
   ]
  },
  {
   "cell_type": "code",
   "execution_count": 1,
   "id": "4e22b21a",
   "metadata": {},
   "outputs": [],
   "source": [
    "import numpy as np\n",
    "import os\n",
    "import time\n",
    "import cv2\n",
    "import pandas as pd\n",
    "from tqdm import tqdm\n",
    "from IPython.display import clear_output\n",
    "\n",
    "main_files = [\"video\",\"annotations\"]\n",
    "sub_files = ['bookstore','coupa','deathCircle','gates','hyang','little','nexus','quad']"
   ]
  },
  {
   "cell_type": "code",
   "execution_count": 32,
   "id": "450a26f1",
   "metadata": {},
   "outputs": [],
   "source": [
    "def labels2yolo(reference_im_path,txt_path,padding=50):\n",
    "    target_labels = {\n",
    "        \"Biker\" : 1 ,\n",
    "        \"Pedestrian\" :11,\n",
    "        \"Skater\": 11,\n",
    "        \"Cart\":4,\n",
    "        \"Car\":1,\n",
    "        \"Bus\":2\n",
    "    }\n",
    "    \n",
    "    frame_shape = cv2.imread(reference_im_path).shape[:2]\n",
    "    detection_area = [(padding,padding),(frame_shape[0]-padding,frame_shape[1]-padding)]\n",
    "\n",
    "    file = open(txt_path,\"r\")\n",
    "    lines = file.readlines()\n",
    "    file.close()\n",
    "    \n",
    "    for line in lines:\n",
    "\n",
    "\n",
    "        words = line.split(\" \")\n",
    "\n",
    "\n",
    "        id_ = int(words[0])\n",
    "        x1 = int(words[1])\n",
    "        y1 = int(words[2])\n",
    "        x2 = int(words[3])\n",
    "        y2 = int(words[4])\n",
    "        frame_idx = int(words[5])\n",
    "        lost = int(words[6])\n",
    "        occuled = int(words[7])\n",
    "        generated = int(words[8])\n",
    "        label = target_labels[words[9][1:-2]]\n",
    "\n",
    "        if x1 > detection_area[0][1] and x2 < detection_area[1][1] and y1 > detection_area[0][0] and y2 < detection_area[1][0]:\n",
    "\n",
    "            if lost == 0 and occuled == 0:\n",
    "\n",
    "                # boxes with yolo format\n",
    "                center_x = (x2+x1) / 2\n",
    "                center_y = (y2+y1) / 2\n",
    "                width = x2-x1\n",
    "                height = y2-y1\n",
    "\n",
    "                # location ratios in yolo format\n",
    "                max_y = frame_shape[0]\n",
    "                max_x = frame_shape[1]\n",
    "\n",
    "                cx = center_x / max_x\n",
    "                cy = center_y / max_y\n",
    "                w = width / max_x\n",
    "                h = height / max_y\n",
    "\n",
    "                #print(width)\n",
    "                #newfile.writelines(f\"{label} {cx} {cy} {w} {h}\\n\")\n",
    "                #print(f\"{label} {cx} {cy} {w} {h}\")\n",
    "                lines.append(f\"{label} {cx} {cy} {w} {h}\")\n",
    "         #print(label)"
   ]
  },
  {
   "cell_type": "code",
   "execution_count": 33,
   "id": "cbad087e",
   "metadata": {},
   "outputs": [
    {
     "ename": "ValueError",
     "evalue": "invalid literal for int() with base 10: '0.9497893258426966'",
     "output_type": "error",
     "traceback": [
      "\u001b[1;31m---------------------------------------------------------------------------\u001b[0m",
      "\u001b[1;31mValueError\u001b[0m                                Traceback (most recent call last)",
      "Cell \u001b[1;32mIn[33], line 1\u001b[0m\n\u001b[1;32m----> 1\u001b[0m \u001b[43mlabels2yolo\u001b[49m\u001b[43m(\u001b[49m\n\u001b[0;32m      2\u001b[0m \u001b[43m            \u001b[49m\u001b[38;5;124;43m\"\u001b[39;49m\u001b[38;5;124;43m./annotations/bookstore/video0/reference.jpg\u001b[39;49m\u001b[38;5;124;43m\"\u001b[39;49m\u001b[43m,\u001b[49m\n\u001b[0;32m      3\u001b[0m \u001b[43m            \u001b[49m\u001b[38;5;124;43m\"\u001b[39;49m\u001b[38;5;124;43m./annotations/bookstore/video1/annotations.txt\u001b[39;49m\u001b[38;5;124;43m\"\u001b[39;49m\u001b[43m,\u001b[49m\u001b[43m)\u001b[49m\n",
      "Cell \u001b[1;32mIn[32], line 25\u001b[0m, in \u001b[0;36mlabels2yolo\u001b[1;34m(reference_im_path, txt_path, padding)\u001b[0m\n\u001b[0;32m     21\u001b[0m words \u001b[38;5;241m=\u001b[39m line\u001b[38;5;241m.\u001b[39msplit(\u001b[38;5;124m\"\u001b[39m\u001b[38;5;124m \u001b[39m\u001b[38;5;124m\"\u001b[39m)\n\u001b[0;32m     24\u001b[0m id_ \u001b[38;5;241m=\u001b[39m \u001b[38;5;28mint\u001b[39m(words[\u001b[38;5;241m0\u001b[39m])\n\u001b[1;32m---> 25\u001b[0m x1 \u001b[38;5;241m=\u001b[39m \u001b[38;5;28;43mint\u001b[39;49m\u001b[43m(\u001b[49m\u001b[43mwords\u001b[49m\u001b[43m[\u001b[49m\u001b[38;5;241;43m1\u001b[39;49m\u001b[43m]\u001b[49m\u001b[43m)\u001b[49m\n\u001b[0;32m     26\u001b[0m y1 \u001b[38;5;241m=\u001b[39m \u001b[38;5;28mint\u001b[39m(words[\u001b[38;5;241m2\u001b[39m])\n\u001b[0;32m     27\u001b[0m x2 \u001b[38;5;241m=\u001b[39m \u001b[38;5;28mint\u001b[39m(words[\u001b[38;5;241m3\u001b[39m])\n",
      "\u001b[1;31mValueError\u001b[0m: invalid literal for int() with base 10: '0.9497893258426966'"
     ]
    }
   ],
   "source": [
    "labels2yolo(\n",
    "            \"./annotations/bookstore/video0/reference.jpg\",\n",
    "            \"./annotations/bookstore/video1/annotations.txt\",)"
   ]
  },
  {
   "cell_type": "code",
   "execution_count": null,
   "id": "1c5cc4c9",
   "metadata": {},
   "outputs": [],
   "source": []
  },
  {
   "cell_type": "code",
   "execution_count": null,
   "id": "ac9a6654",
   "metadata": {},
   "outputs": [],
   "source": []
  }
 ],
 "metadata": {
  "kernelspec": {
   "display_name": "Python 3 (ipykernel)",
   "language": "python",
   "name": "python3"
  },
  "language_info": {
   "codemirror_mode": {
    "name": "ipython",
    "version": 3
   },
   "file_extension": ".py",
   "mimetype": "text/x-python",
   "name": "python",
   "nbconvert_exporter": "python",
   "pygments_lexer": "ipython3",
   "version": "3.9.16"
  }
 },
 "nbformat": 4,
 "nbformat_minor": 5
}
