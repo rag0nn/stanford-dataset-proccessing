{
 "cells": [
  {
   "cell_type": "code",
   "execution_count": 1,
   "id": "10d4eac5",
   "metadata": {},
   "outputs": [],
   "source": [
    "import os\n",
    "import cv2\n",
    "import time"
   ]
  },
  {
   "cell_type": "code",
   "execution_count": 2,
   "id": "c2a2afa0",
   "metadata": {},
   "outputs": [],
   "source": [
    "def path_sequence(root,*directories):\n",
    "    seq = root\n",
    "    for directory in directories:\n",
    "        seq += f\"/{directory}\"\n",
    "    return seq\n",
    "\n",
    "\n",
    "target_labels = {\n",
    "    '\"Pedestrian\"\\n' : 11,\n",
    "    '\"Biker\"\\n': 1,\n",
    "    '\"Skater\"\\n' : 4,\n",
    "    '\"Cart\"\\n': 4,\n",
    "    '\"Car\"\\n': 0 ,\n",
    "    '\"Bus\"\\n' : 2\n",
    "}\n",
    "\n",
    "target_counts = {\n",
    "    '\"Pedestrian\"\\n' : 0,\n",
    "    '\"Biker\"\\n': 0,\n",
    "    '\"Skater\"\\n' : 0,\n",
    "    '\"Cart\"\\n': 0,\n",
    "    '\"Car\"\\n': 0 ,\n",
    "    '\"Bus\"\\n' : 0\n",
    "}\n",
    "\n"
   ]
  },
  {
   "cell_type": "code",
   "execution_count": 3,
   "id": "25719431",
   "metadata": {},
   "outputs": [],
   "source": [
    "def extract_line(line):\n",
    "    words =line.split(\" \")\n",
    "    \n",
    "    track_id = int(words[0])\n",
    "    x1 = int(words[1])\n",
    "    y1 = int(words[2])\n",
    "    x2 = int(words[3])\n",
    "    y2 = int(words[4])\n",
    "    frame_idx = int(words[5])\n",
    "    lost = int(words[6])\n",
    "    occlueded = int(words[7])\n",
    "    generated = int(words[8])\n",
    "    label = target_labels[words[9]]\n",
    "    \n",
    "    target_counts[words[9]] +=1\n",
    "    return [label,x1,y1,x2,y2,frame_idx]"
   ]
  },
  {
   "cell_type": "code",
   "execution_count": 22,
   "id": "5753d05d",
   "metadata": {},
   "outputs": [
    {
     "name": "stderr",
     "output_type": "stream",
     "text": [
      "IOPub data rate exceeded.\n",
      "The notebook server will temporarily stop sending output\n",
      "to the client in order to avoid crashing it.\n",
      "To change this limit, set the config variable\n",
      "`--NotebookApp.iopub_data_rate_limit`.\n",
      "\n",
      "Current values:\n",
      "NotebookApp.iopub_data_rate_limit=1000000.0 (bytes/sec)\n",
      "NotebookApp.rate_limit_window=3.0 (secs)\n",
      "\n"
     ]
    }
   ],
   "source": [
    "video_path = path_sequence(\"./test\",\"video.mp4\")\n",
    "ref_path = path_sequence(\"./test\",\"reference.jpg\")\n",
    "annos_path = path_sequence(\"./test\",\"annotations.txt\")\n",
    "\n",
    "ref_im = cv2.imread(ref_path)\n",
    "frame_shape = ref_im.shape[:2][::-1]\n",
    "f = open(annos_path,\"r\")\n",
    "lines = f.readlines()\n",
    "     \n",
    "frame_tags = {\n",
    "    \n",
    "}\n",
    "for line in lines:\n",
    "    newline = extract_line(line)\n",
    "    \n",
    "    if newline[5] in frame_tags and frame_tags[newline[5]] is not None:\n",
    "        frame_tags[newline[5]].append(newline)\n",
    "    else:\n",
    "        frame_tags[newline[5]] = [newline]\n",
    "\n",
    "print(frame_tags)"
   ]
  },
  {
   "cell_type": "code",
   "execution_count": 7,
   "id": "46d72205",
   "metadata": {},
   "outputs": [
    {
     "data": {
      "text/plain": [
       "[[1, 383, 0, 413, 62, 0],\n",
       " [1, 511, 0, 537, 50, 0],\n",
       " [11, 499, 1614, 529, 1664, 0],\n",
       " [1, 326, 588, 375, 646, 0],\n",
       " [1, 286, 809, 338, 875, 0],\n",
       " [11, 0, 1080, 35, 1142, 0],\n",
       " [1, 509, 0, 548, 79, 0],\n",
       " [11, 1396, 1384, 1420, 1443, 0],\n",
       " [11, 853, 1514, 881, 1580, 0],\n",
       " [11, 224, 930, 276, 1009, 0],\n",
       " [11, 147, 1497, 180, 1559, 0],\n",
       " [1, 499, 333, 529, 392, 0],\n",
       " [1, 501, 0, 537, 54, 0],\n",
       " [1, 664, 1931, 692, 1997, 0],\n",
       " [1, 0, 1247, 35, 1330, 0],\n",
       " [11, 684, 387, 714, 442, 0],\n",
       " [11, 171, 8, 210, 50, 0],\n",
       " [11, 173, 0, 216, 29, 0],\n",
       " [11, 672, 8, 708, 62, 0],\n",
       " [11, 467, 0, 501, 37, 0],\n",
       " [11, 417, 0, 443, 62, 0],\n",
       " [11, 1394, 1051, 1428, 1113, 0],\n",
       " [1, 1390, 1155, 1428, 1217, 0],\n",
       " [1, 361, 1251, 395, 1330, 0],\n",
       " [1, 417, 1401, 455, 1472, 0],\n",
       " [1, 377, 1126, 415, 1209, 0],\n",
       " [1, 338, 1184, 369, 1247, 0],\n",
       " [11, 966, 1343, 1024, 1405, 0],\n",
       " [1, 381, 596, 423, 646, 0],\n",
       " [11, 157, 216, 184, 275, 0],\n",
       " [11, 139, 116, 180, 158, 0],\n",
       " [11, 196, 54, 226, 112, 0],\n",
       " [1, 71, 1297, 147, 1388, 0],\n",
       " [11, 272, 1526, 294, 1572, 0],\n",
       " [11, 290, 1514, 320, 1580, 0],\n",
       " [11, 393, 1664, 445, 1705, 0],\n",
       " [1, 578, 1401, 632, 1451, 0],\n",
       " [1, 1324, 1230, 1372, 1284, 0],\n",
       " [1, 1306, 1142, 1368, 1197, 0],\n",
       " [1, 883, 1530, 936, 1601, 0],\n",
       " [1, 706, 1685, 743, 1743, 0],\n",
       " [11, 248, 1634, 280, 1693, 0],\n",
       " [11, 620, 804, 656, 875, 0],\n",
       " [11, 1384, 1155, 1420, 1205, 0],\n",
       " [1, 1030, 1313, 1058, 1376, 0],\n",
       " [11, 531, 325, 560, 375, 0],\n",
       " [11, 1392, 1146, 1418, 1217, 0],\n",
       " [11, 1380, 1134, 1418, 1188, 0],\n",
       " [1, 525, 633, 560, 709, 0],\n",
       " [11, 610, 734, 648, 792, 0],\n",
       " [11, 610, 542, 644, 604, 0],\n",
       " [11, 602, 392, 632, 446, 0],\n",
       " [1, 887, 1530, 934, 1589, 0]]"
      ]
     },
     "execution_count": 7,
     "metadata": {},
     "output_type": "execute_result"
    }
   ],
   "source": [
    "frame_tags[0]"
   ]
  },
  {
   "cell_type": "code",
   "execution_count": 4,
   "id": "ec40fbdf",
   "metadata": {},
   "outputs": [
    {
     "ename": "NameError",
     "evalue": "name 'video_path' is not defined",
     "output_type": "error",
     "traceback": [
      "\u001b[1;31m---------------------------------------------------------------------------\u001b[0m",
      "\u001b[1;31mNameError\u001b[0m                                 Traceback (most recent call last)",
      "Cell \u001b[1;32mIn[4], line 1\u001b[0m\n\u001b[1;32m----> 1\u001b[0m cap \u001b[38;5;241m=\u001b[39m cv2\u001b[38;5;241m.\u001b[39mVideoCapture(\u001b[43mvideo_path\u001b[49m)\n\u001b[0;32m      2\u001b[0m frame_counter \u001b[38;5;241m=\u001b[39m \u001b[38;5;241m0\u001b[39m\n\u001b[0;32m      3\u001b[0m \u001b[38;5;28;01mwhile\u001b[39;00m(cap\u001b[38;5;241m.\u001b[39misOpened()): \n",
      "\u001b[1;31mNameError\u001b[0m: name 'video_path' is not defined"
     ]
    }
   ],
   "source": [
    "cap = cv2.VideoCapture(video_path)\n",
    "frame_counter = 0\n",
    "while(cap.isOpened()): \n",
    "\n",
    "    ret, frame = cap.read() \n",
    "    if ret == True: \n",
    "        if cv2.waitKey(25) & 0xFF == ord('q'): \n",
    "            break\n",
    "        frame = cv2.resize(frame,frame_shape)\n",
    "        for point in frame_tags[frame_counter]:\n",
    "            center_x = int((point[1] + point[3])/2)\n",
    "            center_y = int((point[2] + point[4])/2)\n",
    "            width = point[3]-point[1]\n",
    "            height = point[4]-point[2]\n",
    "            \n",
    "            cv2.line(\n",
    "                frame,\n",
    "                (center_x-int(width/2),center_y),\n",
    "                (center_x+int(width/2),center_y),\n",
    "                (120,210,5))\n",
    "            cv2.line(\n",
    "                frame,\n",
    "                (center_x,center_y-int(height/2)),\n",
    "                (center_x,center_y+int(height/2)),\n",
    "                (120,210,5))\n",
    "            \n",
    "            shape_y = frame_shape[0]\n",
    "            shape_x = frame_shape[1]\n",
    "            \n",
    "            norm_center_x = center_x / shape_x\n",
    "            norm_center_y = center_y / shape_y\n",
    "            norm_width = width / shape_x\n",
    "            norm_height = height / shape_y\n",
    "            print(point[0],norm_center_x,norm_center_y,norm_width,norm_height)\n",
    "            \n",
    "            cv2.rectangle(\n",
    "                frame,\n",
    "                (int(x1_ratio*frame_shape[1]),int(y1_ratio*frame_shape[0])),\n",
    "                (int(x2_ratio*frame_shape[1]),int(y2_ratio*frame_shape[0])),\n",
    "                (120,230,5,5))\n",
    "            \n",
    "            \n",
    "            cv2.putText(frame,str(point[0]),(point[1],point[2]-5),cv2.FONT_HERSHEY_SIMPLEX,1,(123,230,4))\n",
    "        frame = cv2.resize(frame,(1000,1000))\n",
    "        cv2.imshow(\"q\",frame)\n",
    "        frame_counter += 1\n",
    "    else: \n",
    "        break\n",
    "\n",
    "cap.release() \n",
    "\n",
    "cv2.destroyAllWindows() \n",
    "\n"
   ]
  },
  {
   "cell_type": "code",
   "execution_count": 24,
   "id": "a6cdaad6",
   "metadata": {},
   "outputs": [
    {
     "data": {
      "text/plain": [
       "(2002, 1432, 3)"
      ]
     },
     "execution_count": 24,
     "metadata": {},
     "output_type": "execute_result"
    }
   ],
   "source": [
    "ref_im.shape"
   ]
  },
  {
   "cell_type": "code",
   "execution_count": null,
   "id": "9be2e9b6",
   "metadata": {},
   "outputs": [],
   "source": []
  }
 ],
 "metadata": {
  "kernelspec": {
   "display_name": "Python 3 (ipykernel)",
   "language": "python",
   "name": "python3"
  },
  "language_info": {
   "codemirror_mode": {
    "name": "ipython",
    "version": 3
   },
   "file_extension": ".py",
   "mimetype": "text/x-python",
   "name": "python",
   "nbconvert_exporter": "python",
   "pygments_lexer": "ipython3",
   "version": "3.9.16"
  }
 },
 "nbformat": 4,
 "nbformat_minor": 5
}
