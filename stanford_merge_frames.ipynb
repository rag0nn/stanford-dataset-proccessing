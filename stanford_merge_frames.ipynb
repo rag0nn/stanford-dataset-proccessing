{
 "cells": [
  {
   "cell_type": "code",
   "execution_count": 3,
   "id": "326395ee",
   "metadata": {},
   "outputs": [],
   "source": [
    "import os\n",
    "import cv2\n",
    "from tqdm import tqdm"
   ]
  },
  {
   "cell_type": "code",
   "execution_count": 4,
   "id": "29ce2997",
   "metadata": {},
   "outputs": [],
   "source": [
    "def path_sequence(root,*directories):\n",
    "    seq = root\n",
    "    for directory in directories:\n",
    "        seq += f\"/{directory}\"\n",
    "    return seq"
   ]
  },
  {
   "cell_type": "markdown",
   "id": "153ea499",
   "metadata": {},
   "source": [
    "her bir öğeye eşsiz isim veriyoruz\n"
   ]
  },
  {
   "cell_type": "code",
   "execution_count": 6,
   "id": "85963dc2",
   "metadata": {},
   "outputs": [
    {
     "name": "stderr",
     "output_type": "stream",
     "text": [
      "  0%|                                                                                            | 0/8 [00:00<?, ?it/s]\n",
      "  0%|                                                                                            | 0/7 [00:00<?, ?it/s]\u001b[A"
     ]
    },
    {
     "name": "stdout",
     "output_type": "stream",
     "text": [
      "işleniyor: ./annotations bookstore video0 annotations\n",
      "./video/bookstore/video0/frames\n",
      "./video/bookstore/video0/labels\n"
     ]
    },
    {
     "name": "stderr",
     "output_type": "stream",
     "text": [
      "\n",
      " 14%|████████████                                                                        | 1/7 [00:00<00:01,  4.77it/s]\u001b[A"
     ]
    },
    {
     "name": "stdout",
     "output_type": "stream",
     "text": [
      "işleniyor: ./annotations bookstore video1 annotations\n",
      "./video/bookstore/video1/frames\n",
      "./video/bookstore/video1/labels\n"
     ]
    },
    {
     "name": "stderr",
     "output_type": "stream",
     "text": [
      "\n",
      " 29%|████████████████████████                                                            | 2/7 [00:00<00:01,  4.64it/s]\u001b[A\n"
     ]
    },
    {
     "name": "stdout",
     "output_type": "stream",
     "text": [
      "işleniyor: ./annotations bookstore video2 annotations\n",
      "./video/bookstore/video2/frames\n",
      "./video/bookstore/video2/labels\n"
     ]
    },
    {
     "name": "stderr",
     "output_type": "stream",
     "text": [
      " 43%|████████████████████████████████████                                                | 3/7 [00:00<00:00,  4.66it/s]\u001b[A"
     ]
    },
    {
     "name": "stdout",
     "output_type": "stream",
     "text": [
      "işleniyor: ./annotations bookstore video3 annotations\n",
      "./video/bookstore/video3/frames\n",
      "./video/bookstore/video3/labels\n"
     ]
    },
    {
     "name": "stderr",
     "output_type": "stream",
     "text": [
      "\n",
      " 57%|████████████████████████████████████████████████                                    | 4/7 [00:00<00:00,  4.07it/s]\u001b[A"
     ]
    },
    {
     "name": "stdout",
     "output_type": "stream",
     "text": [
      "işleniyor: ./annotations bookstore video4 annotations\n",
      "./video/bookstore/video4/frames\n",
      "./video/bookstore/video4/labels\n"
     ]
    },
    {
     "name": "stderr",
     "output_type": "stream",
     "text": [
      "\n",
      " 71%|████████████████████████████████████████████████████████████                        | 5/7 [00:01<00:00,  3.72it/s]\u001b[A"
     ]
    },
    {
     "name": "stdout",
     "output_type": "stream",
     "text": [
      "işleniyor: ./annotations bookstore video5 annotations\n",
      "./video/bookstore/video5/frames\n",
      "./video/bookstore/video5/labels\n"
     ]
    },
    {
     "name": "stderr",
     "output_type": "stream",
     "text": [
      "\n",
      " 86%|████████████████████████████████████████████████████████████████████████            | 6/7 [00:01<00:00,  3.95it/s]\u001b[A"
     ]
    },
    {
     "name": "stdout",
     "output_type": "stream",
     "text": [
      "işleniyor: ./annotations bookstore video6 annotations\n",
      "./video/bookstore/video6/frames\n",
      "./video/bookstore/video6/labels\n"
     ]
    },
    {
     "name": "stderr",
     "output_type": "stream",
     "text": [
      "\n",
      "100%|████████████████████████████████████████████████████████████████████████████████████| 7/7 [00:01<00:00,  4.11it/s]\u001b[A\n",
      " 12%|██████████▌                                                                         | 1/8 [00:01<00:11,  1.71s/it]\n",
      "  0%|                                                                                            | 0/4 [00:00<?, ?it/s]\u001b[A\n"
     ]
    },
    {
     "name": "stdout",
     "output_type": "stream",
     "text": [
      "işleniyor: ./annotations coupa video0 annotations\n",
      "./video/coupa/video0/frames\n",
      "./video/coupa/video0/labels\n"
     ]
    },
    {
     "name": "stderr",
     "output_type": "stream",
     "text": [
      " 25%|█████████████████████                                                               | 1/4 [00:00<00:00,  5.28it/s]\u001b[A"
     ]
    },
    {
     "name": "stdout",
     "output_type": "stream",
     "text": [
      "işleniyor: ./annotations coupa video1 annotations\n",
      "./video/coupa/video1/frames\n",
      "./video/coupa/video1/labels\n"
     ]
    },
    {
     "name": "stderr",
     "output_type": "stream",
     "text": [
      "\n",
      " 50%|██████████████████████████████████████████                                          | 2/4 [00:00<00:00,  4.76it/s]\u001b[A"
     ]
    },
    {
     "name": "stdout",
     "output_type": "stream",
     "text": [
      "işleniyor: ./annotations coupa video2 annotations\n",
      "./video/coupa/video2/frames\n",
      "./video/coupa/video2/labels\n"
     ]
    },
    {
     "name": "stderr",
     "output_type": "stream",
     "text": [
      "\n",
      " 75%|███████████████████████████████████████████████████████████████                     | 3/4 [00:00<00:00,  4.09it/s]\u001b[A\n",
      "100%|████████████████████████████████████████████████████████████████████████████████████| 4/4 [00:00<00:00,  4.65it/s]\u001b[A\n",
      " 25%|█████████████████████                                                               | 2/8 [00:02<00:07,  1.21s/it]"
     ]
    },
    {
     "name": "stdout",
     "output_type": "stream",
     "text": [
      "işleniyor: ./annotations coupa video3 annotations\n",
      "./video/coupa/video3/frames\n",
      "./video/coupa/video3/labels\n"
     ]
    },
    {
     "name": "stderr",
     "output_type": "stream",
     "text": [
      "\n",
      "  0%|                                                                                            | 0/5 [00:00<?, ?it/s]\u001b[A"
     ]
    },
    {
     "name": "stdout",
     "output_type": "stream",
     "text": [
      "işleniyor: ./annotations deathCircle video0 annotations\n",
      "./video/deathCircle/video0/frames\n",
      "./video/deathCircle/video0/labels\n"
     ]
    },
    {
     "name": "stderr",
     "output_type": "stream",
     "text": [
      "\n",
      " 20%|████████████████▊                                                                   | 1/5 [00:00<00:00,  4.14it/s]\u001b[A"
     ]
    },
    {
     "name": "stdout",
     "output_type": "stream",
     "text": [
      "işleniyor: ./annotations deathCircle video1 annotations\n",
      "./video/deathCircle/video1/frames\n",
      "./video/deathCircle/video1/labels\n"
     ]
    },
    {
     "name": "stderr",
     "output_type": "stream",
     "text": [
      "\n",
      " 40%|█████████████████████████████████▌                                                  | 2/5 [00:00<00:00,  3.98it/s]\u001b[A\n",
      " 60%|██████████████████████████████████████████████████▍                                 | 3/5 [00:00<00:00,  5.30it/s]\u001b[A"
     ]
    },
    {
     "name": "stdout",
     "output_type": "stream",
     "text": [
      "işleniyor: ./annotations deathCircle video2 annotations\n",
      "./video/deathCircle/video2/frames\n",
      "./video/deathCircle/video2/labels\n",
      "işleniyor: ./annotations deathCircle video3 annotations\n",
      "./video/deathCircle/video3/frames\n",
      "./video/deathCircle/video3/labels\n"
     ]
    },
    {
     "name": "stderr",
     "output_type": "stream",
     "text": [
      "\n",
      " 80%|███████████████████████████████████████████████████████████████████▏                | 4/5 [00:00<00:00,  5.12it/s]\u001b[A\n",
      "100%|████████████████████████████████████████████████████████████████████████████████████| 5/5 [00:00<00:00,  5.32it/s]\u001b[A\n",
      " 38%|███████████████████████████████▌                                                    | 3/8 [00:03<00:05,  1.09s/it]"
     ]
    },
    {
     "name": "stdout",
     "output_type": "stream",
     "text": [
      "işleniyor: ./annotations deathCircle video4 annotations\n",
      "./video/deathCircle/video4/frames\n",
      "./video/deathCircle/video4/labels\n"
     ]
    },
    {
     "name": "stderr",
     "output_type": "stream",
     "text": [
      "\n",
      "  0%|                                                                                            | 0/9 [00:00<?, ?it/s]\u001b[A"
     ]
    },
    {
     "name": "stdout",
     "output_type": "stream",
     "text": [
      "işleniyor: ./annotations gates video0 annotations\n",
      "./video/gates/video0/frames\n",
      "./video/gates/video0/labels\n"
     ]
    },
    {
     "name": "stderr",
     "output_type": "stream",
     "text": [
      "\n",
      " 11%|█████████▎                                                                          | 1/9 [00:00<00:01,  6.68it/s]\u001b[A"
     ]
    },
    {
     "name": "stdout",
     "output_type": "stream",
     "text": [
      "işleniyor: ./annotations gates video1 annotations\n",
      "./video/gates/video1/frames\n",
      "./video/gates/video1/labels\n"
     ]
    },
    {
     "name": "stderr",
     "output_type": "stream",
     "text": [
      "\n",
      " 22%|██████████████████▋                                                                 | 2/9 [00:00<00:01,  7.00it/s]\u001b[A"
     ]
    },
    {
     "name": "stdout",
     "output_type": "stream",
     "text": [
      "işleniyor: ./annotations gates video2 annotations\n",
      "./video/gates/video2/frames\n",
      "./video/gates/video2/labels\n"
     ]
    },
    {
     "name": "stderr",
     "output_type": "stream",
     "text": [
      "\n",
      " 33%|████████████████████████████                                                        | 3/9 [00:00<00:00,  7.02it/s]\u001b[A"
     ]
    },
    {
     "name": "stdout",
     "output_type": "stream",
     "text": [
      "işleniyor: ./annotations gates video3 annotations\n",
      "./video/gates/video3/frames\n",
      "./video/gates/video3/labels\n"
     ]
    },
    {
     "name": "stderr",
     "output_type": "stream",
     "text": [
      "\n",
      " 44%|█████████████████████████████████████▎                                              | 4/9 [00:00<00:00,  6.89it/s]\u001b[A"
     ]
    },
    {
     "name": "stdout",
     "output_type": "stream",
     "text": [
      "işleniyor: ./annotations gates video4 annotations\n",
      "./video/gates/video4/frames\n",
      "./video/gates/video4/labels\n"
     ]
    },
    {
     "name": "stderr",
     "output_type": "stream",
     "text": [
      "\n",
      " 67%|████████████████████████████████████████████████████████                            | 6/9 [00:00<00:00,  8.60it/s]\u001b[A"
     ]
    },
    {
     "name": "stdout",
     "output_type": "stream",
     "text": [
      "işleniyor: ./annotations gates video5 annotations\n",
      "./video/gates/video5/frames\n",
      "./video/gates/video5/labels\n",
      "işleniyor: ./annotations gates video6 annotations\n",
      "./video/gates/video6/frames\n",
      "./video/gates/video6/labels\n",
      "işleniyor: ./annotations gates video7 annotations\n",
      "./video/gates/video7/frames\n",
      "./video/gates/video7/labels\n"
     ]
    },
    {
     "name": "stderr",
     "output_type": "stream",
     "text": [
      "\n",
      "100%|████████████████████████████████████████████████████████████████████████████████████| 9/9 [00:01<00:00,  8.69it/s]\u001b[A"
     ]
    },
    {
     "name": "stdout",
     "output_type": "stream",
     "text": [
      "işleniyor: ./annotations gates video8 annotations\n",
      "./video/gates/video8/frames\n",
      "./video/gates/video8/labels\n"
     ]
    },
    {
     "name": "stderr",
     "output_type": "stream",
     "text": [
      "\n",
      " 50%|██████████████████████████████████████████                                          | 4/8 [00:04<00:04,  1.07s/it]\n",
      "  0%|                                                                                           | 0/15 [00:00<?, ?it/s]\u001b[A"
     ]
    },
    {
     "name": "stdout",
     "output_type": "stream",
     "text": [
      "işleniyor: ./annotations hyang video0 annotations\n",
      "./video/hyang/video0/frames\n",
      "./video/hyang/video0/labels\n"
     ]
    },
    {
     "name": "stderr",
     "output_type": "stream",
     "text": [
      "\n",
      "  7%|█████▌                                                                             | 1/15 [00:00<00:02,  5.78it/s]\u001b[A"
     ]
    },
    {
     "name": "stdout",
     "output_type": "stream",
     "text": [
      "işleniyor: ./annotations hyang video1 annotations\n",
      "./video/hyang/video1/frames\n",
      "./video/hyang/video1/labels\n"
     ]
    },
    {
     "name": "stderr",
     "output_type": "stream",
     "text": [
      "\n",
      " 13%|███████████                                                                        | 2/15 [00:00<00:02,  4.85it/s]\u001b[A\n"
     ]
    },
    {
     "name": "stdout",
     "output_type": "stream",
     "text": [
      "işleniyor: ./annotations hyang video10 annotations\n",
      "./video/hyang/video10/frames\n",
      "./video/hyang/video10/labels\n"
     ]
    },
    {
     "name": "stderr",
     "output_type": "stream",
     "text": [
      " 20%|████████████████▌                                                                  | 3/15 [00:00<00:02,  4.96it/s]\u001b[A\n",
      " 27%|██████████████████████▏                                                            | 4/15 [00:00<00:02,  5.24it/s]\u001b[A"
     ]
    },
    {
     "name": "stdout",
     "output_type": "stream",
     "text": [
      "işleniyor: ./annotations hyang video11 annotations\n",
      "./video/hyang/video11/frames\n",
      "./video/hyang/video11/labels\n",
      "işleniyor: ./annotations hyang video12 annotations\n",
      "./video/hyang/video12/frames\n",
      "./video/hyang/video12/labels\n"
     ]
    },
    {
     "name": "stderr",
     "output_type": "stream",
     "text": [
      "\n",
      " 33%|███████████████████████████▋                                                       | 5/15 [00:00<00:01,  5.32it/s]\u001b[A"
     ]
    },
    {
     "name": "stdout",
     "output_type": "stream",
     "text": [
      "işleniyor: ./annotations hyang video13 annotations\n",
      "./video/hyang/video13/frames\n",
      "./video/hyang/video13/labels\n"
     ]
    },
    {
     "name": "stderr",
     "output_type": "stream",
     "text": [
      "\n",
      " 40%|█████████████████████████████████▏                                                 | 6/15 [00:01<00:01,  4.92it/s]\u001b[A"
     ]
    },
    {
     "name": "stdout",
     "output_type": "stream",
     "text": [
      "işleniyor: ./annotations hyang video14 annotations\n",
      "./video/hyang/video14/frames\n",
      "./video/hyang/video14/labels\n"
     ]
    },
    {
     "name": "stderr",
     "output_type": "stream",
     "text": [
      "\n",
      " 47%|██████████████████████████████████████▋                                            | 7/15 [00:01<00:01,  4.64it/s]\u001b[A\n"
     ]
    },
    {
     "name": "stdout",
     "output_type": "stream",
     "text": [
      "işleniyor: ./annotations hyang video2 annotations\n",
      "./video/hyang/video2/frames\n",
      "./video/hyang/video2/labels\n"
     ]
    },
    {
     "name": "stderr",
     "output_type": "stream",
     "text": [
      " 53%|████████████████████████████████████████████▎                                      | 8/15 [00:01<00:01,  4.72it/s]\u001b[A\n"
     ]
    },
    {
     "name": "stdout",
     "output_type": "stream",
     "text": [
      "işleniyor: ./annotations hyang video3 annotations\n",
      "./video/hyang/video3/frames\n",
      "./video/hyang/video3/labels\n"
     ]
    },
    {
     "name": "stderr",
     "output_type": "stream",
     "text": [
      " 60%|█████████████████████████████████████████████████▊                                 | 9/15 [00:01<00:01,  4.88it/s]\u001b[A\n",
      " 67%|██████████████████████████████████████████████████████▋                           | 10/15 [00:01<00:00,  5.17it/s]\u001b[A"
     ]
    },
    {
     "name": "stdout",
     "output_type": "stream",
     "text": [
      "işleniyor: ./annotations hyang video4 annotations\n",
      "./video/hyang/video4/frames\n",
      "./video/hyang/video4/labels\n",
      "işleniyor: ./annotations hyang video5 annotations\n",
      "./video/hyang/video5/frames\n",
      "./video/hyang/video5/labels\n"
     ]
    },
    {
     "name": "stderr",
     "output_type": "stream",
     "text": [
      "\n",
      " 73%|████████████████████████████████████████████████████████████▏                     | 11/15 [00:02<00:00,  5.16it/s]\u001b[A\n"
     ]
    },
    {
     "name": "stdout",
     "output_type": "stream",
     "text": [
      "işleniyor: ./annotations hyang video6 annotations\n",
      "./video/hyang/video6/frames\n",
      "./video/hyang/video6/labels\n"
     ]
    },
    {
     "name": "stderr",
     "output_type": "stream",
     "text": [
      " 80%|█████████████████████████████████████████████████████████████████▌                | 12/15 [00:02<00:00,  5.25it/s]\u001b[A\n",
      " 87%|███████████████████████████████████████████████████████████████████████           | 13/15 [00:02<00:00,  6.00it/s]\u001b[A"
     ]
    },
    {
     "name": "stdout",
     "output_type": "stream",
     "text": [
      "işleniyor: ./annotations hyang video7 annotations\n",
      "./video/hyang/video7/frames\n",
      "./video/hyang/video7/labels\n",
      "işleniyor: ./annotations hyang video8 annotations\n",
      "./video/hyang/video8/frames\n",
      "./video/hyang/video8/labels\n"
     ]
    },
    {
     "name": "stderr",
     "output_type": "stream",
     "text": [
      "\n",
      " 93%|████████████████████████████████████████████████████████████████████████████▌     | 14/15 [00:02<00:00,  6.56it/s]\u001b[A\n",
      "100%|██████████████████████████████████████████████████████████████████████████████████| 15/15 [00:02<00:00,  5.55it/s]\u001b[A\n",
      " 62%|████████████████████████████████████████████████████▌                               | 5/8 [00:07<00:04,  1.66s/it]"
     ]
    },
    {
     "name": "stdout",
     "output_type": "stream",
     "text": [
      "işleniyor: ./annotations hyang video9 annotations\n",
      "./video/hyang/video9/frames\n",
      "./video/hyang/video9/labels\n"
     ]
    },
    {
     "name": "stderr",
     "output_type": "stream",
     "text": [
      "\n",
      "  0%|                                                                                            | 0/4 [00:00<?, ?it/s]\u001b[A"
     ]
    },
    {
     "name": "stdout",
     "output_type": "stream",
     "text": [
      "işleniyor: ./annotations little video0 annotations\n",
      "./video/little/video0/frames\n",
      "./video/little/video0/labels\n",
      "işleniyor: ./annotations little video1 annotations\n",
      "./video/little/video1/frames\n",
      "./video/little/video1/labels\n"
     ]
    },
    {
     "name": "stderr",
     "output_type": "stream",
     "text": [
      "\n",
      " 50%|██████████████████████████████████████████                                          | 2/4 [00:00<00:00,  8.74it/s]\u001b[A"
     ]
    },
    {
     "name": "stdout",
     "output_type": "stream",
     "text": [
      "işleniyor: ./annotations little video2 annotations\n",
      "./video/little/video2/frames\n",
      "./video/little/video2/labels\n"
     ]
    },
    {
     "name": "stderr",
     "output_type": "stream",
     "text": [
      "\n",
      " 75%|███████████████████████████████████████████████████████████████                     | 3/4 [00:00<00:00,  5.93it/s]\u001b[A"
     ]
    },
    {
     "name": "stdout",
     "output_type": "stream",
     "text": [
      "işleniyor: ./annotations little video3 annotations\n",
      "./video/little/video3/frames\n",
      "./video/little/video3/labels\n"
     ]
    },
    {
     "name": "stderr",
     "output_type": "stream",
     "text": [
      "\n",
      "100%|████████████████████████████████████████████████████████████████████████████████████| 4/4 [00:00<00:00,  5.76it/s]\u001b[A\n",
      " 75%|███████████████████████████████████████████████████████████████                     | 6/8 [00:07<00:02,  1.33s/it]\n",
      "  0%|                                                                                           | 0/12 [00:00<?, ?it/s]\u001b[A\n"
     ]
    },
    {
     "name": "stdout",
     "output_type": "stream",
     "text": [
      "işleniyor: ./annotations nexus video0 annotations\n",
      "./video/nexus/video0/frames\n",
      "./video/nexus/video0/labels\n"
     ]
    },
    {
     "name": "stderr",
     "output_type": "stream",
     "text": [
      "  8%|██████▉                                                                            | 1/12 [00:00<00:02,  5.27it/s]\u001b[A\n"
     ]
    },
    {
     "name": "stdout",
     "output_type": "stream",
     "text": [
      "işleniyor: ./annotations nexus video1 annotations\n",
      "./video/nexus/video1/frames\n",
      "./video/nexus/video1/labels\n"
     ]
    },
    {
     "name": "stderr",
     "output_type": "stream",
     "text": [
      " 17%|█████████████▊                                                                     | 2/12 [00:00<00:01,  5.15it/s]\u001b[A\n"
     ]
    },
    {
     "name": "stdout",
     "output_type": "stream",
     "text": [
      "işleniyor: ./annotations nexus video10 annotations\n",
      "./video/nexus/video10/frames\n",
      "./video/nexus/video10/labels\n"
     ]
    },
    {
     "name": "stderr",
     "output_type": "stream",
     "text": [
      " 25%|████████████████████▊                                                              | 3/12 [00:00<00:01,  5.18it/s]\u001b[A\n"
     ]
    },
    {
     "name": "stdout",
     "output_type": "stream",
     "text": [
      "işleniyor: ./annotations nexus video11 annotations\n",
      "./video/nexus/video11/frames\n",
      "./video/nexus/video11/labels\n"
     ]
    },
    {
     "name": "stderr",
     "output_type": "stream",
     "text": [
      " 33%|███████████████████████████▋                                                       | 4/12 [00:00<00:01,  5.02it/s]\u001b[A\n",
      " 42%|██████████████████████████████████▌                                                | 5/12 [00:00<00:01,  5.20it/s]"
     ]
    },
    {
     "name": "stdout",
     "output_type": "stream",
     "text": [
      "işleniyor: ./annotations nexus video2 annotations\n",
      "./video/nexus/video2/frames\n",
      "./video/nexus/video2/labels\n"
     ]
    },
    {
     "name": "stderr",
     "output_type": "stream",
     "text": [
      "\u001b[A\n",
      " 50%|█████████████████████████████████████████▌                                         | 6/12 [00:01<00:01,  5.26it/s]\u001b[A"
     ]
    },
    {
     "name": "stdout",
     "output_type": "stream",
     "text": [
      "işleniyor: ./annotations nexus video3 annotations\n",
      "./video/nexus/video3/frames\n",
      "./video/nexus/video3/labels\n",
      "işleniyor: ./annotations nexus video4 annotations\n",
      "./video/nexus/video4/frames\n",
      "./video/nexus/video4/labels\n"
     ]
    },
    {
     "name": "stderr",
     "output_type": "stream",
     "text": [
      "\n",
      " 58%|████████████████████████████████████████████████▍                                  | 7/12 [00:01<00:00,  5.07it/s]\u001b[A\n",
      " 75%|██████████████████████████████████████████████████████████████▎                    | 9/12 [00:01<00:00,  6.92it/s]\u001b[A"
     ]
    },
    {
     "name": "stdout",
     "output_type": "stream",
     "text": [
      "işleniyor: ./annotations nexus video5 annotations\n",
      "./video/nexus/video5/frames\n",
      "./video/nexus/video5/labels\n",
      "işleniyor: ./annotations nexus video6 annotations\n",
      "./video/nexus/video6/frames\n",
      "./video/nexus/video6/labels\n",
      "işleniyor: ./annotations nexus video7 annotations\n",
      "./video/nexus/video7/frames\n",
      "./video/nexus/video7/labels\n"
     ]
    },
    {
     "name": "stderr",
     "output_type": "stream",
     "text": [
      "\n",
      " 92%|███████████████████████████████████████████████████████████████████████████▏      | 11/12 [00:01<00:00,  7.27it/s]\u001b[A"
     ]
    },
    {
     "name": "stdout",
     "output_type": "stream",
     "text": [
      "işleniyor: ./annotations nexus video8 annotations\n",
      "./video/nexus/video8/frames\n",
      "./video/nexus/video8/labels\n",
      "işleniyor: ./annotations nexus video9 annotations\n",
      "./video/nexus/video9/frames\n",
      "./video/nexus/video9/labels\n"
     ]
    },
    {
     "name": "stderr",
     "output_type": "stream",
     "text": [
      "\n",
      "100%|██████████████████████████████████████████████████████████████████████████████████| 12/12 [00:01<00:00,  6.11it/s]\u001b[A\n",
      " 88%|█████████████████████████████████████████████████████████████████████████▌          | 7/8 [00:09<00:01,  1.54s/it]\n",
      "100%|███████████████████████████████████████████████████████████████████████████████████| 4/4 [00:00<00:00, 133.78it/s]\u001b[A\n",
      "100%|████████████████████████████████████████████████████████████████████████████████████| 8/8 [00:09<00:00,  1.24s/it]"
     ]
    },
    {
     "name": "stdout",
     "output_type": "stream",
     "text": [
      "işleniyor: ./annotations quad video0 annotations\n",
      "./video/quad/video0/frames\n",
      "./video/quad/video0/labels\n",
      "işleniyor: ./annotations quad video1 annotations\n",
      "./video/quad/video1/frames\n",
      "./video/quad/video1/labels\n",
      "işleniyor: ./annotations quad video2 annotations\n",
      "./video/quad/video2/frames\n",
      "./video/quad/video2/labels\n",
      "işleniyor: ./annotations quad video3 annotations\n",
      "./video/quad/video3/frames\n",
      "./video/quad/video3/labels\n"
     ]
    },
    {
     "name": "stderr",
     "output_type": "stream",
     "text": [
      "\n"
     ]
    }
   ],
   "source": [
    "root = \"./video\"\n",
    "\n",
    "labels_root = \"./annotations\"\n",
    "locations_list =  os.listdir(root)\n",
    "for location in tqdm(locations_list):\n",
    "    video_files_list = os.listdir(path_sequence(root,location))\n",
    "    \n",
    "    for video_file in tqdm(video_files_list):\n",
    "        \n",
    "        print(f\"işleniyor: {labels_root} {location} {video_file} annotations\")\n",
    "\n",
    "        frame_file_path = path_sequence(root,location,video_file,\"frames\")\n",
    "        labels_file_path = path_sequence(root,location,video_file,\"labels\")\n",
    "        print(frame_file_path)\n",
    "        print(labels_file_path)\n",
    "        \n",
    "        frames = os.listdir(frame_file_path)\n",
    "        for frame in frames:\n",
    "            os.rename(\n",
    "                path_sequence(root,location,video_file,\"frames\",frame),\n",
    "                path_sequence(root,location,video_file,\"frames\",f\"{location}_{video_file}_{frame}\")\n",
    "            )\n",
    "            \n",
    "        labels = os.listdir(labels_file_path)\n",
    "        for label in labels:\n",
    "            os.rename(\n",
    "                path_sequence(root,location,video_file,\"labels\",label),\n",
    "                path_sequence(root,location,video_file,\"labels\",f\"{location}_{video_file}_{label}\")\n",
    "            )"
   ]
  },
  {
   "cell_type": "markdown",
   "id": "2c7304e1",
   "metadata": {},
   "source": [
    "dosyaları bir dosyaya toplayalım"
   ]
  },
  {
   "cell_type": "code",
   "execution_count": 7,
   "id": "34beebaf",
   "metadata": {},
   "outputs": [
    {
     "name": "stderr",
     "output_type": "stream",
     "text": [
      "  0%|                                                                                            | 0/8 [00:00<?, ?it/s]\n",
      "  0%|                                                                                            | 0/7 [00:00<?, ?it/s]\u001b[A"
     ]
    },
    {
     "name": "stdout",
     "output_type": "stream",
     "text": [
      "işleniyor: ./annotations bookstore video0 annotations\n"
     ]
    },
    {
     "name": "stderr",
     "output_type": "stream",
     "text": [
      "\n",
      " 14%|████████████                                                                        | 1/7 [00:00<00:01,  3.91it/s]\u001b[A"
     ]
    },
    {
     "name": "stdout",
     "output_type": "stream",
     "text": [
      "işleniyor: ./annotations bookstore video1 annotations\n"
     ]
    },
    {
     "name": "stderr",
     "output_type": "stream",
     "text": [
      "\n",
      " 29%|████████████████████████                                                            | 2/7 [00:00<00:01,  3.79it/s]\u001b[A"
     ]
    },
    {
     "name": "stdout",
     "output_type": "stream",
     "text": [
      "işleniyor: ./annotations bookstore video2 annotations\n"
     ]
    },
    {
     "name": "stderr",
     "output_type": "stream",
     "text": [
      "\n",
      " 43%|████████████████████████████████████                                                | 3/7 [00:00<00:01,  3.64it/s]\u001b[A"
     ]
    },
    {
     "name": "stdout",
     "output_type": "stream",
     "text": [
      "işleniyor: ./annotations bookstore video3 annotations\n"
     ]
    },
    {
     "name": "stderr",
     "output_type": "stream",
     "text": [
      "\n",
      " 57%|████████████████████████████████████████████████                                    | 4/7 [00:01<00:01,  2.96it/s]\u001b[A"
     ]
    },
    {
     "name": "stdout",
     "output_type": "stream",
     "text": [
      "işleniyor: ./annotations bookstore video4 annotations\n"
     ]
    },
    {
     "name": "stderr",
     "output_type": "stream",
     "text": [
      "\n",
      " 71%|████████████████████████████████████████████████████████████                        | 5/7 [00:01<00:00,  3.10it/s]\u001b[A"
     ]
    },
    {
     "name": "stdout",
     "output_type": "stream",
     "text": [
      "işleniyor: ./annotations bookstore video5 annotations\n"
     ]
    },
    {
     "name": "stderr",
     "output_type": "stream",
     "text": [
      "\n",
      " 86%|████████████████████████████████████████████████████████████████████████            | 6/7 [00:01<00:00,  3.25it/s]\u001b[A"
     ]
    },
    {
     "name": "stdout",
     "output_type": "stream",
     "text": [
      "işleniyor: ./annotations bookstore video6 annotations\n"
     ]
    },
    {
     "name": "stderr",
     "output_type": "stream",
     "text": [
      "\n",
      "100%|████████████████████████████████████████████████████████████████████████████████████| 7/7 [00:02<00:00,  3.30it/s]\u001b[A\n",
      " 12%|██████████▌                                                                         | 1/8 [00:02<00:14,  2.12s/it]\n",
      "  0%|                                                                                            | 0/4 [00:00<?, ?it/s]\u001b[A"
     ]
    },
    {
     "name": "stdout",
     "output_type": "stream",
     "text": [
      "işleniyor: ./annotations coupa video0 annotations\n"
     ]
    },
    {
     "name": "stderr",
     "output_type": "stream",
     "text": [
      "\n",
      " 25%|█████████████████████                                                               | 1/4 [00:00<00:00,  4.44it/s]\u001b[A"
     ]
    },
    {
     "name": "stdout",
     "output_type": "stream",
     "text": [
      "işleniyor: ./annotations coupa video1 annotations\n"
     ]
    },
    {
     "name": "stderr",
     "output_type": "stream",
     "text": [
      "\n",
      " 50%|██████████████████████████████████████████                                          | 2/4 [00:00<00:00,  4.30it/s]\u001b[A"
     ]
    },
    {
     "name": "stdout",
     "output_type": "stream",
     "text": [
      "işleniyor: ./annotations coupa video2 annotations\n"
     ]
    },
    {
     "name": "stderr",
     "output_type": "stream",
     "text": [
      "\n",
      " 75%|███████████████████████████████████████████████████████████████                     | 3/4 [00:00<00:00,  4.36it/s]\u001b[A"
     ]
    },
    {
     "name": "stdout",
     "output_type": "stream",
     "text": [
      "işleniyor: ./annotations coupa video3 annotations\n"
     ]
    },
    {
     "name": "stderr",
     "output_type": "stream",
     "text": [
      "\n",
      "100%|████████████████████████████████████████████████████████████████████████████████████| 4/4 [00:00<00:00,  4.23it/s]\u001b[A\n",
      " 25%|█████████████████████                                                               | 2/8 [00:03<00:08,  1.43s/it]\n",
      "  0%|                                                                                            | 0/5 [00:00<?, ?it/s]\u001b[A"
     ]
    },
    {
     "name": "stdout",
     "output_type": "stream",
     "text": [
      "işleniyor: ./annotations deathCircle video0 annotations\n"
     ]
    },
    {
     "name": "stderr",
     "output_type": "stream",
     "text": [
      "\n",
      " 20%|████████████████▊                                                                   | 1/5 [00:00<00:00,  4.14it/s]\u001b[A"
     ]
    },
    {
     "name": "stdout",
     "output_type": "stream",
     "text": [
      "işleniyor: ./annotations deathCircle video1 annotations\n"
     ]
    },
    {
     "name": "stderr",
     "output_type": "stream",
     "text": [
      "\n",
      " 40%|█████████████████████████████████▌                                                  | 2/5 [00:00<00:00,  3.50it/s]\u001b[A\n",
      " 60%|██████████████████████████████████████████████████▍                                 | 3/5 [00:00<00:00,  4.63it/s]\u001b[A"
     ]
    },
    {
     "name": "stdout",
     "output_type": "stream",
     "text": [
      "işleniyor: ./annotations deathCircle video2 annotations\n",
      "işleniyor: ./annotations deathCircle video3 annotations\n"
     ]
    },
    {
     "name": "stderr",
     "output_type": "stream",
     "text": [
      "\n",
      " 80%|███████████████████████████████████████████████████████████████████▏                | 4/5 [00:01<00:00,  3.72it/s]\u001b[A\n"
     ]
    },
    {
     "name": "stdout",
     "output_type": "stream",
     "text": [
      "işleniyor: ./annotations deathCircle video4 annotations\n"
     ]
    },
    {
     "name": "stderr",
     "output_type": "stream",
     "text": [
      "100%|████████████████████████████████████████████████████████████████████████████████████| 5/5 [00:01<00:00,  4.05it/s]\u001b[A\n",
      " 38%|███████████████████████████████▌                                                    | 3/8 [00:04<00:06,  1.34s/it]\n",
      "  0%|                                                                                            | 0/9 [00:00<?, ?it/s]\u001b[A"
     ]
    },
    {
     "name": "stdout",
     "output_type": "stream",
     "text": [
      "işleniyor: ./annotations gates video0 annotations\n"
     ]
    },
    {
     "name": "stderr",
     "output_type": "stream",
     "text": [
      "\n",
      " 11%|█████████▎                                                                          | 1/9 [00:00<00:02,  3.52it/s]\u001b[A"
     ]
    },
    {
     "name": "stdout",
     "output_type": "stream",
     "text": [
      "işleniyor: ./annotations gates video1 annotations\n"
     ]
    },
    {
     "name": "stderr",
     "output_type": "stream",
     "text": [
      "\n",
      " 22%|██████████████████▋                                                                 | 2/9 [00:00<00:01,  4.02it/s]\u001b[A"
     ]
    },
    {
     "name": "stdout",
     "output_type": "stream",
     "text": [
      "işleniyor: ./annotations gates video2 annotations\n"
     ]
    },
    {
     "name": "stderr",
     "output_type": "stream",
     "text": [
      "\n",
      " 33%|████████████████████████████                                                        | 3/9 [00:00<00:01,  3.84it/s]\u001b[A\n"
     ]
    },
    {
     "name": "stdout",
     "output_type": "stream",
     "text": [
      "işleniyor: ./annotations gates video3 annotations\n"
     ]
    },
    {
     "name": "stderr",
     "output_type": "stream",
     "text": [
      " 44%|█████████████████████████████████████▎                                              | 4/9 [00:00<00:01,  4.34it/s]\u001b[A\n",
      " 56%|██████████████████████████████████████████████▋                                     | 5/9 [00:01<00:00,  5.08it/s]\u001b[A"
     ]
    },
    {
     "name": "stdout",
     "output_type": "stream",
     "text": [
      "işleniyor: ./annotations gates video4 annotations\n",
      "işleniyor: ./annotations gates video5 annotations\n"
     ]
    },
    {
     "name": "stderr",
     "output_type": "stream",
     "text": [
      "\n",
      " 67%|████████████████████████████████████████████████████████                            | 6/9 [00:01<00:00,  5.93it/s]\u001b[A\n",
      " 78%|█████████████████████████████████████████████████████████████████▎                  | 7/9 [00:01<00:00,  6.46it/s]\u001b[A"
     ]
    },
    {
     "name": "stdout",
     "output_type": "stream",
     "text": [
      "işleniyor: ./annotations gates video6 annotations\n",
      "işleniyor: ./annotations gates video7 annotations\n"
     ]
    },
    {
     "name": "stderr",
     "output_type": "stream",
     "text": [
      "\n",
      " 89%|██████████████████████████████████████████████████████████████████████████▋         | 8/9 [00:01<00:00,  7.04it/s]\u001b[A\n",
      "100%|████████████████████████████████████████████████████████████████████████████████████| 9/9 [00:01<00:00,  5.71it/s]\u001b[A\n",
      " 50%|██████████████████████████████████████████                                          | 4/8 [00:05<00:05,  1.44s/it]"
     ]
    },
    {
     "name": "stdout",
     "output_type": "stream",
     "text": [
      "işleniyor: ./annotations gates video8 annotations\n"
     ]
    },
    {
     "name": "stderr",
     "output_type": "stream",
     "text": [
      "\n",
      "  0%|                                                                                           | 0/15 [00:00<?, ?it/s]\u001b[A"
     ]
    },
    {
     "name": "stdout",
     "output_type": "stream",
     "text": [
      "işleniyor: ./annotations hyang video0 annotations\n"
     ]
    },
    {
     "name": "stderr",
     "output_type": "stream",
     "text": [
      "\n",
      "  7%|█████▌                                                                             | 1/15 [00:00<00:02,  4.75it/s]\u001b[A"
     ]
    },
    {
     "name": "stdout",
     "output_type": "stream",
     "text": [
      "işleniyor: ./annotations hyang video1 annotations\n"
     ]
    },
    {
     "name": "stderr",
     "output_type": "stream",
     "text": [
      "\n",
      " 13%|███████████                                                                        | 2/15 [00:00<00:03,  4.10it/s]\u001b[A"
     ]
    },
    {
     "name": "stdout",
     "output_type": "stream",
     "text": [
      "işleniyor: ./annotations hyang video10 annotations\n"
     ]
    },
    {
     "name": "stderr",
     "output_type": "stream",
     "text": [
      "\n",
      " 20%|████████████████▌                                                                  | 3/15 [00:00<00:02,  4.32it/s]\u001b[A"
     ]
    },
    {
     "name": "stdout",
     "output_type": "stream",
     "text": [
      "işleniyor: ./annotations hyang video11 annotations\n"
     ]
    },
    {
     "name": "stderr",
     "output_type": "stream",
     "text": [
      "\n",
      " 27%|██████████████████████▏                                                            | 4/15 [00:00<00:02,  4.29it/s]\u001b[A"
     ]
    },
    {
     "name": "stdout",
     "output_type": "stream",
     "text": [
      "işleniyor: ./annotations hyang video12 annotations\n"
     ]
    },
    {
     "name": "stderr",
     "output_type": "stream",
     "text": [
      "\n",
      " 33%|███████████████████████████▋                                                       | 5/15 [00:01<00:02,  4.41it/s]\u001b[A"
     ]
    },
    {
     "name": "stdout",
     "output_type": "stream",
     "text": [
      "işleniyor: ./annotations hyang video13 annotations\n"
     ]
    },
    {
     "name": "stderr",
     "output_type": "stream",
     "text": [
      "\n",
      " 40%|█████████████████████████████████▏                                                 | 6/15 [00:01<00:02,  4.04it/s]\u001b[A"
     ]
    },
    {
     "name": "stdout",
     "output_type": "stream",
     "text": [
      "işleniyor: ./annotations hyang video14 annotations\n"
     ]
    },
    {
     "name": "stderr",
     "output_type": "stream",
     "text": [
      "\n",
      " 47%|██████████████████████████████████████▋                                            | 7/15 [00:01<00:01,  4.17it/s]\u001b[A"
     ]
    },
    {
     "name": "stdout",
     "output_type": "stream",
     "text": [
      "işleniyor: ./annotations hyang video2 annotations\n"
     ]
    },
    {
     "name": "stderr",
     "output_type": "stream",
     "text": [
      "\n",
      " 53%|████████████████████████████████████████████▎                                      | 8/15 [00:01<00:01,  4.06it/s]\u001b[A"
     ]
    },
    {
     "name": "stdout",
     "output_type": "stream",
     "text": [
      "işleniyor: ./annotations hyang video3 annotations\n"
     ]
    },
    {
     "name": "stderr",
     "output_type": "stream",
     "text": [
      "\n",
      " 60%|█████████████████████████████████████████████████▊                                 | 9/15 [00:02<00:01,  4.10it/s]\u001b[A"
     ]
    },
    {
     "name": "stdout",
     "output_type": "stream",
     "text": [
      "işleniyor: ./annotations hyang video4 annotations\n"
     ]
    },
    {
     "name": "stderr",
     "output_type": "stream",
     "text": [
      "\n",
      " 67%|██████████████████████████████████████████████████████▋                           | 10/15 [00:02<00:01,  3.98it/s]\u001b[A"
     ]
    },
    {
     "name": "stdout",
     "output_type": "stream",
     "text": [
      "işleniyor: ./annotations hyang video5 annotations\n"
     ]
    },
    {
     "name": "stderr",
     "output_type": "stream",
     "text": [
      "\n",
      " 73%|████████████████████████████████████████████████████████████▏                     | 11/15 [00:02<00:01,  3.93it/s]\u001b[A"
     ]
    },
    {
     "name": "stdout",
     "output_type": "stream",
     "text": [
      "işleniyor: ./annotations hyang video6 annotations\n"
     ]
    },
    {
     "name": "stderr",
     "output_type": "stream",
     "text": [
      "\n",
      " 80%|█████████████████████████████████████████████████████████████████▌                | 12/15 [00:02<00:00,  3.93it/s]\u001b[A\n",
      " 87%|███████████████████████████████████████████████████████████████████████           | 13/15 [00:03<00:00,  4.63it/s]\u001b[A"
     ]
    },
    {
     "name": "stdout",
     "output_type": "stream",
     "text": [
      "işleniyor: ./annotations hyang video7 annotations\n",
      "işleniyor: ./annotations hyang video8 annotations\n"
     ]
    },
    {
     "name": "stderr",
     "output_type": "stream",
     "text": [
      "\n",
      " 93%|████████████████████████████████████████████████████████████████████████████▌     | 14/15 [00:03<00:00,  5.19it/s]\u001b[A\n",
      "100%|██████████████████████████████████████████████████████████████████████████████████| 15/15 [00:03<00:00,  4.46it/s]\u001b[A\n",
      " 62%|████████████████████████████████████████████████████▌                               | 5/8 [00:09<00:06,  2.13s/it]"
     ]
    },
    {
     "name": "stdout",
     "output_type": "stream",
     "text": [
      "işleniyor: ./annotations hyang video9 annotations\n"
     ]
    },
    {
     "name": "stderr",
     "output_type": "stream",
     "text": [
      "\n",
      "  0%|                                                                                            | 0/4 [00:00<?, ?it/s]\u001b[A"
     ]
    },
    {
     "name": "stdout",
     "output_type": "stream",
     "text": [
      "işleniyor: ./annotations little video0 annotations\n",
      "işleniyor: ./annotations little video1 annotations\n"
     ]
    },
    {
     "name": "stderr",
     "output_type": "stream",
     "text": [
      "\n",
      " 50%|██████████████████████████████████████████                                          | 2/4 [00:00<00:00,  6.77it/s]\u001b[A"
     ]
    },
    {
     "name": "stdout",
     "output_type": "stream",
     "text": [
      "işleniyor: ./annotations little video2 annotations\n"
     ]
    },
    {
     "name": "stderr",
     "output_type": "stream",
     "text": [
      "\n",
      " 75%|███████████████████████████████████████████████████████████████                     | 3/4 [00:00<00:00,  4.92it/s]\u001b[A"
     ]
    },
    {
     "name": "stdout",
     "output_type": "stream",
     "text": [
      "işleniyor: ./annotations little video3 annotations\n"
     ]
    },
    {
     "name": "stderr",
     "output_type": "stream",
     "text": [
      "\n",
      "100%|████████████████████████████████████████████████████████████████████████████████████| 4/4 [00:00<00:00,  4.76it/s]\u001b[A\n",
      " 75%|███████████████████████████████████████████████████████████████                     | 6/8 [00:10<00:03,  1.69s/it]\n",
      "  0%|                                                                                           | 0/12 [00:00<?, ?it/s]\u001b[A"
     ]
    },
    {
     "name": "stdout",
     "output_type": "stream",
     "text": [
      "işleniyor: ./annotations nexus video0 annotations\n"
     ]
    },
    {
     "name": "stderr",
     "output_type": "stream",
     "text": [
      "\n",
      "  8%|██████▉                                                                            | 1/12 [00:00<00:02,  3.98it/s]\u001b[A"
     ]
    },
    {
     "name": "stdout",
     "output_type": "stream",
     "text": [
      "işleniyor: ./annotations nexus video1 annotations\n"
     ]
    },
    {
     "name": "stderr",
     "output_type": "stream",
     "text": [
      "\n",
      " 17%|█████████████▊                                                                     | 2/12 [00:00<00:02,  4.17it/s]\u001b[A"
     ]
    },
    {
     "name": "stdout",
     "output_type": "stream",
     "text": [
      "işleniyor: ./annotations nexus video10 annotations\n"
     ]
    },
    {
     "name": "stderr",
     "output_type": "stream",
     "text": [
      "\n",
      " 25%|████████████████████▊                                                              | 3/12 [00:00<00:02,  4.12it/s]\u001b[A"
     ]
    },
    {
     "name": "stdout",
     "output_type": "stream",
     "text": [
      "işleniyor: ./annotations nexus video11 annotations\n"
     ]
    },
    {
     "name": "stderr",
     "output_type": "stream",
     "text": [
      "\n",
      " 33%|███████████████████████████▋                                                       | 4/12 [00:00<00:01,  4.26it/s]\u001b[A"
     ]
    },
    {
     "name": "stdout",
     "output_type": "stream",
     "text": [
      "işleniyor: ./annotations nexus video2 annotations\n"
     ]
    },
    {
     "name": "stderr",
     "output_type": "stream",
     "text": [
      "\n",
      " 42%|██████████████████████████████████▌                                                | 5/12 [00:01<00:01,  4.24it/s]\u001b[A"
     ]
    },
    {
     "name": "stdout",
     "output_type": "stream",
     "text": [
      "işleniyor: ./annotations nexus video3 annotations\n"
     ]
    },
    {
     "name": "stderr",
     "output_type": "stream",
     "text": [
      "\n",
      " 50%|█████████████████████████████████████████▌                                         | 6/12 [00:01<00:01,  4.32it/s]\u001b[A"
     ]
    },
    {
     "name": "stdout",
     "output_type": "stream",
     "text": [
      "işleniyor: ./annotations nexus video4 annotations\n"
     ]
    },
    {
     "name": "stderr",
     "output_type": "stream",
     "text": [
      "\n",
      " 58%|████████████████████████████████████████████████▍                                  | 7/12 [00:01<00:01,  3.88it/s]\u001b[A\n",
      " 67%|███████████████████████████████████████████████████████▎                           | 8/12 [00:01<00:00,  4.61it/s]\u001b[A"
     ]
    },
    {
     "name": "stdout",
     "output_type": "stream",
     "text": [
      "işleniyor: ./annotations nexus video5 annotations\n",
      "işleniyor: ./annotations nexus video6 annotations\n"
     ]
    },
    {
     "name": "stderr",
     "output_type": "stream",
     "text": [
      "\n",
      " 75%|██████████████████████████████████████████████████████████████▎                    | 9/12 [00:02<00:00,  5.13it/s]\u001b[A\n",
      " 83%|████████████████████████████████████████████████████████████████████▎             | 10/12 [00:02<00:00,  5.61it/s]\u001b[A"
     ]
    },
    {
     "name": "stdout",
     "output_type": "stream",
     "text": [
      "işleniyor: ./annotations nexus video7 annotations\n",
      "işleniyor: ./annotations nexus video8 annotations\n"
     ]
    },
    {
     "name": "stderr",
     "output_type": "stream",
     "text": [
      "\n",
      " 92%|███████████████████████████████████████████████████████████████████████████▏      | 11/12 [00:02<00:00,  5.20it/s]\u001b[A"
     ]
    },
    {
     "name": "stdout",
     "output_type": "stream",
     "text": [
      "işleniyor: ./annotations nexus video9 annotations\n"
     ]
    },
    {
     "name": "stderr",
     "output_type": "stream",
     "text": [
      "\n",
      "100%|██████████████████████████████████████████████████████████████████████████████████| 12/12 [00:02<00:00,  4.59it/s]\u001b[A\n",
      " 88%|█████████████████████████████████████████████████████████████████████████▌          | 7/8 [00:12<00:01,  2.00s/it]\n",
      "100%|███████████████████████████████████████████████████████████████████████████████████| 4/4 [00:00<00:00, 100.31it/s]\u001b[A\n",
      "100%|████████████████████████████████████████████████████████████████████████████████████| 8/8 [00:12<00:00,  1.59s/it]"
     ]
    },
    {
     "name": "stdout",
     "output_type": "stream",
     "text": [
      "işleniyor: ./annotations quad video0 annotations\n",
      "işleniyor: ./annotations quad video1 annotations\n",
      "işleniyor: ./annotations quad video2 annotations\n",
      "işleniyor: ./annotations quad video3 annotations\n"
     ]
    },
    {
     "name": "stderr",
     "output_type": "stream",
     "text": [
      "\n"
     ]
    }
   ],
   "source": [
    "root = \"./video\"\n",
    "target_folder = \"./merged\"\n",
    "\n",
    "labels_root = \"./annotations\"\n",
    "locations_list =  os.listdir(root)\n",
    "for location in tqdm(locations_list):\n",
    "    video_files_list = os.listdir(path_sequence(root,location))\n",
    "    \n",
    "    for video_file in tqdm(video_files_list):\n",
    "        \n",
    "        print(f\"işleniyor: {labels_root} {location} {video_file} annotations\")\n",
    "\n",
    "        frame_file_path = path_sequence(root,location,video_file,\"frames\")\n",
    "        labels_file_path = path_sequence(root,location,video_file,\"labels\")\n",
    "        \n",
    "        frames = os.listdir(frame_file_path)\n",
    "        labels = os.listdir(labels_file_path)\n",
    "        \n",
    "        for frame in frames:     \n",
    "            os.replace(\n",
    "                path_sequence(root,location,video_file,\"frames\",frame),\n",
    "                path_sequence(target_folder,\"frames\",frame)\n",
    "            )\n",
    "        for label in labels:\n",
    "            os.replace(\n",
    "                path_sequence(root,location,video_file,\"labels\",label),\n",
    "                path_sequence(target_folder,\"labels\",label)\n",
    "            )"
   ]
  },
  {
   "cell_type": "code",
   "execution_count": null,
   "id": "04b5ba87",
   "metadata": {},
   "outputs": [],
   "source": []
  }
 ],
 "metadata": {
  "kernelspec": {
   "display_name": "Python 3 (ipykernel)",
   "language": "python",
   "name": "python3"
  },
  "language_info": {
   "codemirror_mode": {
    "name": "ipython",
    "version": 3
   },
   "file_extension": ".py",
   "mimetype": "text/x-python",
   "name": "python",
   "nbconvert_exporter": "python",
   "pygments_lexer": "ipython3",
   "version": "3.9.16"
  }
 },
 "nbformat": 4,
 "nbformat_minor": 5
}
