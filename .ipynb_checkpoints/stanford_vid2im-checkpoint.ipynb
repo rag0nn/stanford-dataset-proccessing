{
 "cells": [
  {
   "cell_type": "code",
   "execution_count": 1,
   "id": "c278bc47",
   "metadata": {
    "collapsed": true
   },
   "outputs": [
    {
     "name": "stdout",
     "output_type": "stream",
     "text": [
      "Collecting seedir\n",
      "  Downloading seedir-0.4.2-py3-none-any.whl (111 kB)\n",
      "     ---------------------------------------- 0.0/111.2 kB ? eta -:--:--\n",
      "     -------------------------------------- 111.2/111.2 kB 6.3 MB/s eta 0:00:00\n",
      "Collecting natsort\n",
      "  Downloading natsort-8.4.0-py3-none-any.whl (38 kB)\n",
      "Installing collected packages: natsort, seedir\n",
      "Successfully installed natsort-8.4.0 seedir-0.4.2\n"
     ]
    },
    {
     "name": "stderr",
     "output_type": "stream",
     "text": [
      "WARNING: Ignoring invalid distribution -rotobuf (c:\\users\\asus\\anaconda3\\envs\\gpu\\lib\\site-packages)\n",
      "WARNING: Ignoring invalid distribution -cipy (c:\\users\\asus\\anaconda3\\envs\\gpu\\lib\\site-packages)\n",
      "WARNING: Ignoring invalid distribution -rotobuf (c:\\users\\asus\\anaconda3\\envs\\gpu\\lib\\site-packages)\n",
      "WARNING: Ignoring invalid distribution -cipy (c:\\users\\asus\\anaconda3\\envs\\gpu\\lib\\site-packages)\n",
      "WARNING: Ignoring invalid distribution -rotobuf (c:\\users\\asus\\anaconda3\\envs\\gpu\\lib\\site-packages)\n",
      "WARNING: Ignoring invalid distribution -cipy (c:\\users\\asus\\anaconda3\\envs\\gpu\\lib\\site-packages)\n",
      "WARNING: Ignoring invalid distribution -rotobuf (c:\\users\\asus\\anaconda3\\envs\\gpu\\lib\\site-packages)\n",
      "WARNING: Ignoring invalid distribution -cipy (c:\\users\\asus\\anaconda3\\envs\\gpu\\lib\\site-packages)\n",
      "WARNING: Ignoring invalid distribution -rotobuf (c:\\users\\asus\\anaconda3\\envs\\gpu\\lib\\site-packages)\n",
      "WARNING: Ignoring invalid distribution -cipy (c:\\users\\asus\\anaconda3\\envs\\gpu\\lib\\site-packages)\n",
      "WARNING: Ignoring invalid distribution -rotobuf (c:\\users\\asus\\anaconda3\\envs\\gpu\\lib\\site-packages)\n",
      "WARNING: Ignoring invalid distribution -cipy (c:\\users\\asus\\anaconda3\\envs\\gpu\\lib\\site-packages)\n",
      "WARNING: Ignoring invalid distribution -rotobuf (c:\\users\\asus\\anaconda3\\envs\\gpu\\lib\\site-packages)\n",
      "WARNING: Ignoring invalid distribution -cipy (c:\\users\\asus\\anaconda3\\envs\\gpu\\lib\\site-packages)\n",
      "WARNING: Ignoring invalid distribution -rotobuf (c:\\users\\asus\\anaconda3\\envs\\gpu\\lib\\site-packages)\n",
      "WARNING: Ignoring invalid distribution -cipy (c:\\users\\asus\\anaconda3\\envs\\gpu\\lib\\site-packages)\n"
     ]
    }
   ],
   "source": [
    "!pip install seedir"
   ]
  },
  {
   "cell_type": "code",
   "execution_count": 2,
   "id": "3304ec98",
   "metadata": {},
   "outputs": [],
   "source": [
    "import os\n",
    "import cv2\n",
    "from tqdm import tqdm"
   ]
  },
  {
   "cell_type": "code",
   "execution_count": 3,
   "id": "6f349d2b",
   "metadata": {},
   "outputs": [
    {
     "data": {
      "text/plain": [
       "'C:\\\\Users\\\\Asus\\\\Desktop\\\\stanford'"
      ]
     },
     "execution_count": 3,
     "metadata": {},
     "output_type": "execute_result"
    }
   ],
   "source": [
    "os.getcwd()"
   ]
  },
  {
   "cell_type": "code",
   "execution_count": 4,
   "id": "ab9e8e36",
   "metadata": {},
   "outputs": [
    {
     "name": "stdout",
     "output_type": "stream",
     "text": [
      "stanford/\n",
      "├─.ipynb_checkpoints/\n",
      "│ ├─göz-atma-ve-testler-checkpoint.ipynb\n",
      "│ ├─labels2yolo-checkpoint.ipynb\n",
      "│ └─vid2im-checkpoint.ipynb\n",
      "├─annotations/\n",
      "│ ├─bookstore/\n",
      "│ │ ├─video0/\n",
      "│ │ │ ├─annotations.txt\n",
      "│ │ │ ├─new_try.txt\n",
      "│ │ │ ├─new_try2.txt\n",
      "│ │ │ └─reference.jpg\n",
      "│ │ ├─video1/\n",
      "│ │ │ ├─annotations.txt\n",
      "│ │ │ └─reference.jpg\n",
      "│ │ ├─video2/\n",
      "│ │ │ ├─annotations.txt\n",
      "│ │ │ └─reference.jpg\n",
      "│ │ ├─video3/\n",
      "│ │ │ ├─annotations.txt\n",
      "│ │ │ └─reference.jpg\n",
      "│ │ ├─video4/\n",
      "│ │ │ ├─annotations.txt\n",
      "│ │ │ └─reference.jpg\n",
      "│ │ ├─video5/\n",
      "│ │ │ ├─annotations.txt\n",
      "│ │ │ └─reference.jpg\n",
      "│ │ └─video6/\n",
      "│ │   ├─annotations.txt\n",
      "│ │   └─reference.jpg\n",
      "│ ├─coupa/\n",
      "│ │ ├─video0/\n",
      "│ │ │ ├─annotations.txt\n",
      "│ │ │ └─reference.jpg\n",
      "│ │ ├─video1/\n",
      "│ │ │ ├─annotations.txt\n",
      "│ │ │ └─reference.jpg\n",
      "│ │ ├─video2/\n",
      "│ │ │ ├─annotations.txt\n",
      "│ │ │ └─reference.jpg\n",
      "│ │ └─video3/\n",
      "│ │   ├─annotations.txt\n",
      "│ │   └─reference.jpg\n",
      "│ ├─deathCircle/\n",
      "│ │ ├─video0/\n",
      "│ │ │ ├─annotations.txt\n",
      "│ │ │ └─reference.jpg\n",
      "│ │ ├─video1/\n",
      "│ │ │ ├─annotations.txt\n",
      "│ │ │ └─reference.jpg\n",
      "│ │ ├─video2/\n",
      "│ │ │ ├─annotations.txt\n",
      "│ │ │ └─reference.jpg\n",
      "│ │ ├─video3/\n",
      "│ │ │ ├─annotations.txt\n",
      "│ │ │ └─reference.jpg\n",
      "│ │ └─video4/\n",
      "│ │   ├─annotations.txt\n",
      "│ │   └─reference.jpg\n",
      "│ ├─gates/\n",
      "│ │ ├─video0/\n",
      "│ │ │ ├─annotations.txt\n",
      "│ │ │ └─reference.jpg\n",
      "│ │ ├─video1/\n",
      "│ │ │ ├─annotations.txt\n",
      "│ │ │ └─reference.jpg\n",
      "│ │ ├─video2/\n",
      "│ │ │ ├─annotations.txt\n",
      "│ │ │ └─reference.jpg\n",
      "│ │ ├─video3/\n",
      "│ │ │ ├─annotations.txt\n",
      "│ │ │ └─reference.jpg\n",
      "│ │ ├─video4/\n",
      "│ │ │ ├─annotations.txt\n",
      "│ │ │ └─reference.jpg\n",
      "│ │ ├─video5/\n",
      "│ │ │ ├─annotations.txt\n",
      "│ │ │ └─reference.jpg\n",
      "│ │ ├─video6/\n",
      "│ │ │ ├─annotations.txt\n",
      "│ │ │ └─reference.jpg\n",
      "│ │ ├─video7/\n",
      "│ │ │ ├─annotations.txt\n",
      "│ │ │ └─reference.jpg\n",
      "│ │ └─video8/\n",
      "│ │   ├─annotations.txt\n",
      "│ │   └─reference.jpg\n",
      "│ ├─hyang/\n",
      "│ │ ├─video0/\n",
      "│ │ │ ├─annotations.txt\n",
      "│ │ │ └─reference.jpg\n",
      "│ │ ├─video1/\n",
      "│ │ │ ├─annotations.txt\n",
      "│ │ │ └─reference.jpg\n",
      "│ │ ├─video10/\n",
      "│ │ │ ├─annotations.txt\n",
      "│ │ │ └─reference.jpg\n",
      "│ │ ├─video11/\n",
      "│ │ │ ├─annotations.txt\n",
      "│ │ │ └─reference.jpg\n",
      "│ │ ├─video12/\n",
      "│ │ │ ├─annotations.txt\n",
      "│ │ │ └─reference.jpg\n",
      "│ │ ├─video13/\n",
      "│ │ │ ├─annotations.txt\n",
      "│ │ │ └─reference.jpg\n",
      "│ │ ├─video14/\n",
      "│ │ │ ├─annotations.txt\n",
      "│ │ │ └─reference.jpg\n",
      "│ │ ├─video2/\n",
      "│ │ │ ├─annotations.txt\n",
      "│ │ │ └─reference.jpg\n",
      "│ │ ├─video3/\n",
      "│ │ │ ├─annotations.txt\n",
      "│ │ │ └─reference.jpg\n",
      "│ │ ├─video4/\n",
      "│ │ │ ├─annotations.txt\n",
      "│ │ │ └─reference.jpg\n",
      "│ │ ├─video5/\n",
      "│ │ │ ├─annotations.txt\n",
      "│ │ │ └─reference.jpg\n",
      "│ │ ├─video6/\n",
      "│ │ │ ├─annotations.txt\n",
      "│ │ │ └─reference.jpg\n",
      "│ │ ├─video7/\n",
      "│ │ │ ├─annotations.txt\n",
      "│ │ │ └─reference.jpg\n",
      "│ │ ├─video8/\n",
      "│ │ │ ├─annotations.txt\n",
      "│ │ │ └─reference.jpg\n",
      "│ │ └─video9/\n",
      "│ │   ├─annotations.txt\n",
      "│ │   └─reference.jpg\n",
      "│ ├─little/\n",
      "│ │ ├─video0/\n",
      "│ │ │ ├─annotations.txt\n",
      "│ │ │ └─reference.jpg\n",
      "│ │ ├─video1/\n",
      "│ │ │ ├─annotations.txt\n",
      "│ │ │ └─reference.jpg\n",
      "│ │ ├─video2/\n",
      "│ │ │ ├─annotations.txt\n",
      "│ │ │ └─reference.jpg\n",
      "│ │ └─video3/\n",
      "│ │   ├─annotations.txt\n",
      "│ │   └─reference.jpg\n",
      "│ ├─nexus/\n",
      "│ │ ├─video0/\n",
      "│ │ │ ├─annotations.txt\n",
      "│ │ │ └─reference.jpg\n",
      "│ │ ├─video1/\n",
      "│ │ │ ├─annotations.txt\n",
      "│ │ │ └─reference.jpg\n",
      "│ │ ├─video10/\n",
      "│ │ │ ├─annotations.txt\n",
      "│ │ │ └─reference.jpg\n",
      "│ │ ├─video11/\n",
      "│ │ │ ├─annotations.txt\n",
      "│ │ │ └─reference.jpg\n",
      "│ │ ├─video2/\n",
      "│ │ │ ├─annotations.txt\n",
      "│ │ │ └─reference.jpg\n",
      "│ │ ├─video3/\n",
      "│ │ │ ├─annotations.txt\n",
      "│ │ │ └─reference.jpg\n",
      "│ │ ├─video4/\n",
      "│ │ │ ├─annotations.txt\n",
      "│ │ │ └─reference.jpg\n",
      "│ │ ├─video5/\n",
      "│ │ │ ├─annotations.txt\n",
      "│ │ │ └─reference.jpg\n",
      "│ │ ├─video6/\n",
      "│ │ │ ├─annotations.txt\n",
      "│ │ │ └─reference.jpg\n",
      "│ │ ├─video7/\n",
      "│ │ │ ├─annotations.txt\n",
      "│ │ │ └─reference.jpg\n",
      "│ │ ├─video8/\n",
      "│ │ │ ├─annotations.txt\n",
      "│ │ │ └─reference.jpg\n",
      "│ │ └─video9/\n",
      "│ │   ├─annotations.txt\n",
      "│ │   └─reference.jpg\n",
      "│ └─quad/\n",
      "│   ├─video0/\n",
      "│   │ ├─annotations.txt\n",
      "│   │ └─reference.jpg\n",
      "│   ├─video1/\n",
      "│   │ ├─annotations.txt\n",
      "│   │ └─reference.jpg\n",
      "│   ├─video2/\n",
      "│   │ ├─annotations.txt\n",
      "│   │ └─reference.jpg\n",
      "│   └─video3/\n",
      "│     ├─annotations.txt\n",
      "│     └─reference.jpg\n",
      "├─göz-atma-ve-testler.ipynb\n",
      "├─labels2yolo.ipynb\n",
      "├─vid2im.ipynb\n",
      "└─video/\n",
      "  ├─bookstore/\n",
      "  │ ├─video0/\n",
      "  │ │ └─video.mp4\n",
      "  │ ├─video1/\n",
      "  │ │ └─video.mp4\n",
      "  │ ├─video2/\n",
      "  │ │ └─video.mp4\n",
      "  │ ├─video3/\n",
      "  │ │ └─video.mp4\n",
      "  │ ├─video4/\n",
      "  │ │ └─video.mp4\n",
      "  │ ├─video5/\n",
      "  │ │ └─video.mp4\n",
      "  │ └─video6/\n",
      "  │   └─video.mp4\n",
      "  ├─coupa/\n",
      "  │ ├─video0/\n",
      "  │ │ └─video.mp4\n",
      "  │ ├─video1/\n",
      "  │ │ └─video.mp4\n",
      "  │ ├─video2/\n",
      "  │ │ └─video.mp4\n",
      "  │ └─video3/\n",
      "  │   └─video.mp4\n",
      "  ├─deathCircle/\n",
      "  │ ├─video0/\n",
      "  │ │ └─video.mp4\n",
      "  │ ├─video1/\n",
      "  │ │ └─video.mp4\n",
      "  │ ├─video2/\n",
      "  │ │ └─video.mp4\n",
      "  │ ├─video3/\n",
      "  │ │ └─video.mp4\n",
      "  │ └─video4/\n",
      "  │   └─video.mp4\n",
      "  ├─gates/\n",
      "  │ ├─video0/\n",
      "  │ │ └─video.mp4\n",
      "  │ ├─video1/\n",
      "  │ │ └─video.mp4\n",
      "  │ ├─video2/\n",
      "  │ │ └─video.mp4\n",
      "  │ ├─video3/\n",
      "  │ │ └─video.mp4\n",
      "  │ ├─video4/\n",
      "  │ │ └─video.mp4\n",
      "  │ ├─video5/\n",
      "  │ │ └─video.mp4\n",
      "  │ ├─video6/\n",
      "  │ │ └─video.mp4\n",
      "  │ ├─video7/\n",
      "  │ │ └─video.mp4\n",
      "  │ └─video8/\n",
      "  │   └─video.mp4\n",
      "  ├─hyang/\n",
      "  │ ├─video0/\n",
      "  │ │ └─video.mp4\n",
      "  │ ├─video1/\n",
      "  │ │ └─video.mp4\n",
      "  │ ├─video10/\n",
      "  │ │ └─video.mp4\n",
      "  │ ├─video11/\n",
      "  │ │ └─video.mp4\n",
      "  │ ├─video12/\n",
      "  │ │ └─video.mp4\n",
      "  │ ├─video13/\n",
      "  │ │ └─video.mp4\n",
      "  │ ├─video14/\n",
      "  │ │ └─video.mp4\n",
      "  │ ├─video2/\n",
      "  │ │ └─video.mp4\n",
      "  │ ├─video3/\n",
      "  │ │ └─video.mp4\n",
      "  │ ├─video4/\n",
      "  │ │ └─video.mp4\n",
      "  │ ├─video5/\n",
      "  │ │ └─video.mp4\n",
      "  │ ├─video6/\n",
      "  │ │ └─video.mp4\n",
      "  │ ├─video7/\n",
      "  │ │ └─video.mp4\n",
      "  │ ├─video8/\n",
      "  │ │ └─video.mp4\n",
      "  │ └─video9/\n",
      "  │   └─video.mp4\n",
      "  ├─little/\n",
      "  │ ├─video0/\n",
      "  │ │ └─video.mp4\n",
      "  │ ├─video1/\n",
      "  │ │ └─video.mp4\n",
      "  │ ├─video2/\n",
      "  │ │ └─video.mp4\n",
      "  │ └─video3/\n",
      "  │   └─video.mp4\n",
      "  ├─nexus/\n",
      "  │ ├─video0/\n",
      "  │ │ └─video.mp4\n",
      "  │ ├─video1/\n",
      "  │ │ └─video.mp4\n",
      "  │ ├─video10/\n",
      "  │ │ └─video.mp4\n",
      "  │ ├─video11/\n",
      "  │ │ └─video.mp4\n",
      "  │ ├─video2/\n",
      "  │ │ └─video.mp4\n",
      "  │ ├─video3/\n",
      "  │ │ └─video.mp4\n",
      "  │ ├─video4/\n",
      "  │ │ └─video.mp4\n",
      "  │ ├─video5/\n",
      "  │ │ └─video.mp4\n",
      "  │ ├─video6/\n",
      "  │ │ └─video.mp4\n",
      "  │ ├─video7/\n",
      "  │ │ └─video.mp4\n",
      "  │ ├─video8/\n",
      "  │ │ └─video.mp4\n",
      "  │ └─video9/\n",
      "  │   └─video.mp4\n",
      "  └─quad/\n",
      "    ├─video0/\n",
      "    │ └─video.mp4\n",
      "    ├─video1/\n",
      "    │ └─video.mp4\n",
      "    ├─video2/\n",
      "    │ └─video.mp4\n",
      "    └─video3/\n",
      "      └─video.mp4\n"
     ]
    }
   ],
   "source": [
    "import seedir as sd\n",
    "sd.seedir(os.getcwd())"
   ]
  },
  {
   "cell_type": "code",
   "execution_count": 5,
   "id": "46543ef0",
   "metadata": {},
   "outputs": [],
   "source": [
    "def path_sequence(root,*directories):\n",
    "    seq = root\n",
    "    for directory in directories:\n",
    "        seq += f\"/{directory}\"\n",
    "    return seq"
   ]
  },
  {
   "cell_type": "code",
   "execution_count": 6,
   "id": "e17851fd",
   "metadata": {},
   "outputs": [
    {
     "data": {
      "text/plain": [
       "'a/v/c'"
      ]
     },
     "execution_count": 6,
     "metadata": {},
     "output_type": "execute_result"
    }
   ],
   "source": [
    "path_sequence(\"a\",\"v\",\"c\")"
   ]
  },
  {
   "cell_type": "code",
   "execution_count": 10,
   "id": "d5a2662c",
   "metadata": {},
   "outputs": [],
   "source": [
    "draw_metadata = True\n",
    "\n",
    "frame_interval = 30 \n",
    "\n",
    "chosen_frame_counter = 0 # interval(aralık) eklendiğinde geriye kalan frame sayısı\n",
    "\n",
    "showing_shape = None # Video ekranda gösterilirkenki boyutu, None olabilir orjinal boyutta bastıracaktır.\n",
    "\n",
    "show_video = False\n",
    "\n",
    "save_frames = True"
   ]
  },
  {
   "cell_type": "code",
   "execution_count": 11,
   "id": "ab48a283",
   "metadata": {},
   "outputs": [
    {
     "name": "stderr",
     "output_type": "stream",
     "text": [
      "  0%|                                                                                            | 0/8 [00:00<?, ?it/s]\n",
      "  0%|                                                                                            | 0/7 [00:00<?, ?it/s]\u001b[A"
     ]
    },
    {
     "name": "stdout",
     "output_type": "stream",
     "text": [
      "işlenen:   ./video/bookstore/video0/video.mp4\n"
     ]
    },
    {
     "name": "stderr",
     "output_type": "stream",
     "text": [
      "\n",
      " 14%|████████████                                                                        | 1/7 [00:56<05:39, 56.55s/it]\u001b[A"
     ]
    },
    {
     "name": "stdout",
     "output_type": "stream",
     "text": [
      "işlenen:   ./video/bookstore/video1/video.mp4\n"
     ]
    },
    {
     "name": "stderr",
     "output_type": "stream",
     "text": [
      "\n",
      " 29%|████████████████████████                                                            | 2/7 [02:03<05:13, 62.64s/it]\u001b[A"
     ]
    },
    {
     "name": "stdout",
     "output_type": "stream",
     "text": [
      "işlenen:   ./video/bookstore/video2/video.mp4\n"
     ]
    },
    {
     "name": "stderr",
     "output_type": "stream",
     "text": [
      "\n",
      " 43%|████████████████████████████████████                                                | 3/7 [03:09<04:17, 64.35s/it]\u001b[A"
     ]
    },
    {
     "name": "stdout",
     "output_type": "stream",
     "text": [
      "işlenen:   ./video/bookstore/video3/video.mp4\n"
     ]
    },
    {
     "name": "stderr",
     "output_type": "stream",
     "text": [
      "\n",
      " 57%|████████████████████████████████████████████████                                    | 4/7 [04:08<03:06, 62.27s/it]\u001b[A"
     ]
    },
    {
     "name": "stdout",
     "output_type": "stream",
     "text": [
      "işlenen:   ./video/bookstore/video4/video.mp4\n"
     ]
    },
    {
     "name": "stderr",
     "output_type": "stream",
     "text": [
      "\n",
      " 71%|████████████████████████████████████████████████████████████                        | 5/7 [05:09<02:03, 61.52s/it]\u001b[A"
     ]
    },
    {
     "name": "stdout",
     "output_type": "stream",
     "text": [
      "işlenen:   ./video/bookstore/video5/video.mp4\n"
     ]
    },
    {
     "name": "stderr",
     "output_type": "stream",
     "text": [
      "\n",
      " 86%|████████████████████████████████████████████████████████████████████████            | 6/7 [06:14<01:02, 62.77s/it]\u001b[A"
     ]
    },
    {
     "name": "stdout",
     "output_type": "stream",
     "text": [
      "işlenen:   ./video/bookstore/video6/video.mp4\n"
     ]
    },
    {
     "name": "stderr",
     "output_type": "stream",
     "text": [
      "\n",
      "100%|████████████████████████████████████████████████████████████████████████████████████| 7/7 [07:16<00:00, 62.40s/it]\u001b[A\n",
      " 12%|██████████▍                                                                        | 1/8 [07:16<50:57, 436.83s/it]\n",
      "  0%|                                                                                            | 0/4 [00:00<?, ?it/s]\u001b[A"
     ]
    },
    {
     "name": "stdout",
     "output_type": "stream",
     "text": [
      "işlenen:   ./video/coupa/video0/video.mp4\n"
     ]
    },
    {
     "name": "stderr",
     "output_type": "stream",
     "text": [
      "\n",
      " 25%|█████████████████████                                                               | 1/4 [01:13<03:40, 73.37s/it]\u001b[A"
     ]
    },
    {
     "name": "stdout",
     "output_type": "stream",
     "text": [
      "işlenen:   ./video/coupa/video1/video.mp4\n"
     ]
    },
    {
     "name": "stderr",
     "output_type": "stream",
     "text": [
      "\n",
      " 50%|██████████████████████████████████████████                                          | 2/4 [02:37<02:39, 79.87s/it]\u001b[A"
     ]
    },
    {
     "name": "stdout",
     "output_type": "stream",
     "text": [
      "işlenen:   ./video/coupa/video2/video.mp4\n"
     ]
    },
    {
     "name": "stderr",
     "output_type": "stream",
     "text": [
      "\n",
      " 75%|███████████████████████████████████████████████████████████████                     | 3/4 [04:04<01:23, 83.10s/it]\u001b[A"
     ]
    },
    {
     "name": "stdout",
     "output_type": "stream",
     "text": [
      "işlenen:   ./video/coupa/video3/video.mp4\n"
     ]
    },
    {
     "name": "stderr",
     "output_type": "stream",
     "text": [
      "\n",
      "100%|████████████████████████████████████████████████████████████████████████████████████| 4/4 [05:30<00:00, 82.59s/it]\u001b[A\n",
      " 25%|████████████████████▊                                                              | 2/8 [12:47<37:25, 374.20s/it]\n",
      "  0%|                                                                                            | 0/5 [00:00<?, ?it/s]\u001b[A"
     ]
    },
    {
     "name": "stdout",
     "output_type": "stream",
     "text": [
      "işlenen:   ./video/deathCircle/video0/video.mp4\n"
     ]
    },
    {
     "name": "stderr",
     "output_type": "stream",
     "text": [
      "\n",
      " 20%|████████████████▊                                                                   | 1/5 [00:45<03:01, 45.43s/it]\u001b[A"
     ]
    },
    {
     "name": "stdout",
     "output_type": "stream",
     "text": [
      "işlenen:   ./video/deathCircle/video1/video.mp4\n"
     ]
    },
    {
     "name": "stderr",
     "output_type": "stream",
     "text": [
      "\n",
      " 40%|█████████████████████████████████▌                                                  | 2/5 [01:32<02:19, 46.57s/it]\u001b[A"
     ]
    },
    {
     "name": "stdout",
     "output_type": "stream",
     "text": [
      "işlenen:   ./video/deathCircle/video2/video.mp4\n"
     ]
    },
    {
     "name": "stderr",
     "output_type": "stream",
     "text": [
      "\n",
      " 60%|██████████████████████████████████████████████████▍                                 | 3/5 [01:33<00:51, 25.79s/it]\u001b[A"
     ]
    },
    {
     "name": "stdout",
     "output_type": "stream",
     "text": [
      "işlenen:   ./video/deathCircle/video3/video.mp4\n"
     ]
    },
    {
     "name": "stderr",
     "output_type": "stream",
     "text": [
      "\n",
      " 80%|███████████████████████████████████████████████████████████████████▏                | 4/5 [02:02<00:27, 27.04s/it]\u001b[A"
     ]
    },
    {
     "name": "stdout",
     "output_type": "stream",
     "text": [
      "işlenen:   ./video/deathCircle/video4/video.mp4\n"
     ]
    },
    {
     "name": "stderr",
     "output_type": "stream",
     "text": [
      "\n",
      "100%|████████████████████████████████████████████████████████████████████████████████████| 5/5 [02:04<00:00, 24.84s/it]\u001b[A\n",
      " 38%|███████████████████████████████▏                                                   | 3/8 [14:51<21:40, 260.04s/it]\n",
      "  0%|                                                                                            | 0/9 [00:00<?, ?it/s]\u001b[A"
     ]
    },
    {
     "name": "stdout",
     "output_type": "stream",
     "text": [
      "işlenen:   ./video/gates/video0/video.mp4\n"
     ]
    },
    {
     "name": "stderr",
     "output_type": "stream",
     "text": [
      "\n",
      " 11%|█████████▎                                                                          | 1/9 [00:24<03:17, 24.73s/it]\u001b[A"
     ]
    },
    {
     "name": "stdout",
     "output_type": "stream",
     "text": [
      "işlenen:   ./video/gates/video1/video.mp4\n"
     ]
    },
    {
     "name": "stderr",
     "output_type": "stream",
     "text": [
      "\n",
      " 22%|██████████████████▋                                                                 | 2/9 [00:47<02:43, 23.29s/it]\u001b[A"
     ]
    },
    {
     "name": "stdout",
     "output_type": "stream",
     "text": [
      "işlenen:   ./video/gates/video2/video.mp4\n"
     ]
    },
    {
     "name": "stderr",
     "output_type": "stream",
     "text": [
      "\n",
      " 33%|████████████████████████████                                                        | 3/9 [01:06<02:09, 21.66s/it]\u001b[A"
     ]
    },
    {
     "name": "stdout",
     "output_type": "stream",
     "text": [
      "işlenen:   ./video/gates/video3/video.mp4\n"
     ]
    },
    {
     "name": "stderr",
     "output_type": "stream",
     "text": [
      "\n",
      " 44%|█████████████████████████████████████▎                                              | 4/9 [01:30<01:51, 22.30s/it]\u001b[A"
     ]
    },
    {
     "name": "stdout",
     "output_type": "stream",
     "text": [
      "işlenen:   ./video/gates/video4/video.mp4\n"
     ]
    },
    {
     "name": "stderr",
     "output_type": "stream",
     "text": [
      "\n",
      " 56%|██████████████████████████████████████████████▋                                     | 5/9 [01:36<01:07, 16.76s/it]\u001b[A"
     ]
    },
    {
     "name": "stdout",
     "output_type": "stream",
     "text": [
      "işlenen:   ./video/gates/video5/video.mp4\n"
     ]
    },
    {
     "name": "stderr",
     "output_type": "stream",
     "text": [
      "\n",
      " 67%|████████████████████████████████████████████████████████                            | 6/9 [01:47<00:43, 14.51s/it]\u001b[A"
     ]
    },
    {
     "name": "stdout",
     "output_type": "stream",
     "text": [
      "işlenen:   ./video/gates/video6/video.mp4\n"
     ]
    },
    {
     "name": "stderr",
     "output_type": "stream",
     "text": [
      "\n",
      " 78%|█████████████████████████████████████████████████████████████████▎                  | 7/9 [01:56<00:25, 12.81s/it]\u001b[A"
     ]
    },
    {
     "name": "stdout",
     "output_type": "stream",
     "text": [
      "işlenen:   ./video/gates/video7/video.mp4\n"
     ]
    },
    {
     "name": "stderr",
     "output_type": "stream",
     "text": [
      "\n",
      " 89%|██████████████████████████████████████████████████████████████████████████▋         | 8/9 [02:03<00:11, 11.11s/it]\u001b[A"
     ]
    },
    {
     "name": "stdout",
     "output_type": "stream",
     "text": [
      "işlenen:   ./video/gates/video8/video.mp4\n"
     ]
    },
    {
     "name": "stderr",
     "output_type": "stream",
     "text": [
      "\n",
      "100%|████████████████████████████████████████████████████████████████████████████████████| 9/9 [02:09<00:00, 14.37s/it]\u001b[A\n",
      " 50%|█████████████████████████████████████████▌                                         | 4/8 [17:00<13:53, 208.45s/it]\n",
      "  0%|                                                                                           | 0/15 [00:00<?, ?it/s]\u001b[A"
     ]
    },
    {
     "name": "stdout",
     "output_type": "stream",
     "text": [
      "işlenen:   ./video/hyang/video0/video.mp4\n"
     ]
    },
    {
     "name": "stderr",
     "output_type": "stream",
     "text": [
      "\n",
      "  7%|█████▌                                                                             | 1/15 [00:33<07:47, 33.41s/it]\u001b[A"
     ]
    },
    {
     "name": "stdout",
     "output_type": "stream",
     "text": [
      "işlenen:   ./video/hyang/video1/video.mp4\n"
     ]
    },
    {
     "name": "stderr",
     "output_type": "stream",
     "text": [
      "\n",
      " 13%|███████████                                                                        | 2/15 [01:15<08:18, 38.36s/it]\u001b[A"
     ]
    },
    {
     "name": "stdout",
     "output_type": "stream",
     "text": [
      "işlenen:   ./video/hyang/video10/video.mp4\n"
     ]
    },
    {
     "name": "stderr",
     "output_type": "stream",
     "text": [
      "\n",
      " 20%|████████████████▌                                                                  | 3/15 [01:46<07:00, 35.08s/it]\u001b[A"
     ]
    },
    {
     "name": "stdout",
     "output_type": "stream",
     "text": [
      "işlenen:   ./video/hyang/video11/video.mp4\n"
     ]
    },
    {
     "name": "stderr",
     "output_type": "stream",
     "text": [
      "\n",
      " 27%|██████████████████████▏                                                            | 4/15 [02:18<06:12, 33.84s/it]\u001b[A"
     ]
    },
    {
     "name": "stdout",
     "output_type": "stream",
     "text": [
      "işlenen:   ./video/hyang/video12/video.mp4\n"
     ]
    },
    {
     "name": "stderr",
     "output_type": "stream",
     "text": [
      "\n",
      " 33%|███████████████████████████▋                                                       | 5/15 [02:59<06:03, 36.31s/it]\u001b[A"
     ]
    },
    {
     "name": "stdout",
     "output_type": "stream",
     "text": [
      "işlenen:   ./video/hyang/video13/video.mp4\n"
     ]
    },
    {
     "name": "stderr",
     "output_type": "stream",
     "text": [
      "\n",
      " 40%|█████████████████████████████████▏                                                 | 6/15 [03:28<05:05, 33.91s/it]\u001b[A"
     ]
    },
    {
     "name": "stdout",
     "output_type": "stream",
     "text": [
      "işlenen:   ./video/hyang/video14/video.mp4\n"
     ]
    },
    {
     "name": "stderr",
     "output_type": "stream",
     "text": [
      "\n",
      " 47%|██████████████████████████████████████▋                                            | 7/15 [03:59<04:25, 33.18s/it]\u001b[A"
     ]
    },
    {
     "name": "stdout",
     "output_type": "stream",
     "text": [
      "işlenen:   ./video/hyang/video2/video.mp4\n"
     ]
    },
    {
     "name": "stderr",
     "output_type": "stream",
     "text": [
      "\n",
      " 53%|████████████████████████████████████████████▎                                      | 8/15 [04:49<04:28, 38.31s/it]\u001b[A"
     ]
    },
    {
     "name": "stdout",
     "output_type": "stream",
     "text": [
      "işlenen:   ./video/hyang/video3/video.mp4\n"
     ]
    },
    {
     "name": "stderr",
     "output_type": "stream",
     "text": [
      "\n",
      " 60%|█████████████████████████████████████████████████▊                                 | 9/15 [05:29<03:54, 39.06s/it]\u001b[A"
     ]
    },
    {
     "name": "stdout",
     "output_type": "stream",
     "text": [
      "işlenen:   ./video/hyang/video4/video.mp4\n"
     ]
    },
    {
     "name": "stderr",
     "output_type": "stream",
     "text": [
      "\n",
      " 67%|██████████████████████████████████████████████████████▋                           | 10/15 [05:52<02:49, 33.91s/it]\u001b[A"
     ]
    },
    {
     "name": "stdout",
     "output_type": "stream",
     "text": [
      "işlenen:   ./video/hyang/video5/video.mp4\n"
     ]
    },
    {
     "name": "stderr",
     "output_type": "stream",
     "text": [
      "\n",
      " 73%|████████████████████████████████████████████████████████████▏                     | 11/15 [06:18<02:05, 31.40s/it]\u001b[A"
     ]
    },
    {
     "name": "stdout",
     "output_type": "stream",
     "text": [
      "işlenen:   ./video/hyang/video6/video.mp4\n"
     ]
    },
    {
     "name": "stderr",
     "output_type": "stream",
     "text": [
      "\n",
      " 80%|█████████████████████████████████████████████████████████████████▌                | 12/15 [06:55<01:39, 33.11s/it]\u001b[A"
     ]
    },
    {
     "name": "stdout",
     "output_type": "stream",
     "text": [
      "işlenen:   ./video/hyang/video7/video.mp4\n"
     ]
    },
    {
     "name": "stderr",
     "output_type": "stream",
     "text": [
      "\n",
      " 87%|███████████████████████████████████████████████████████████████████████           | 13/15 [06:56<00:47, 23.53s/it]\u001b[A"
     ]
    },
    {
     "name": "stdout",
     "output_type": "stream",
     "text": [
      "işlenen:   ./video/hyang/video8/video.mp4\n"
     ]
    },
    {
     "name": "stderr",
     "output_type": "stream",
     "text": [
      "\n",
      " 93%|████████████████████████████████████████████████████████████████████████████▌     | 14/15 [06:58<00:16, 16.86s/it]\u001b[A"
     ]
    },
    {
     "name": "stdout",
     "output_type": "stream",
     "text": [
      "işlenen:   ./video/hyang/video9/video.mp4\n"
     ]
    },
    {
     "name": "stderr",
     "output_type": "stream",
     "text": [
      "\n",
      "100%|██████████████████████████████████████████████████████████████████████████████████| 15/15 [06:59<00:00, 27.96s/it]\u001b[A\n",
      " 62%|███████████████████████████████████████████████████▉                               | 5/8 [24:00<14:13, 284.51s/it]\n",
      "  0%|                                                                                            | 0/4 [00:00<?, ?it/s]\u001b[A"
     ]
    },
    {
     "name": "stdout",
     "output_type": "stream",
     "text": [
      "işlenen:   ./video/little/video0/video.mp4\n"
     ]
    },
    {
     "name": "stderr",
     "output_type": "stream",
     "text": [
      "\n",
      " 25%|█████████████████████                                                               | 1/4 [00:03<00:10,  3.65s/it]\u001b[A"
     ]
    },
    {
     "name": "stdout",
     "output_type": "stream",
     "text": [
      "işlenen:   ./video/little/video1/video.mp4\n"
     ]
    },
    {
     "name": "stderr",
     "output_type": "stream",
     "text": [
      "\n",
      " 50%|██████████████████████████████████████████                                          | 2/4 [00:31<00:35, 17.79s/it]\u001b[A"
     ]
    },
    {
     "name": "stdout",
     "output_type": "stream",
     "text": [
      "işlenen:   ./video/little/video2/video.mp4\n"
     ]
    },
    {
     "name": "stderr",
     "output_type": "stream",
     "text": [
      "\n",
      " 75%|███████████████████████████████████████████████████████████████                     | 3/4 [00:59<00:22, 22.70s/it]\u001b[A"
     ]
    },
    {
     "name": "stdout",
     "output_type": "stream",
     "text": [
      "işlenen:   ./video/little/video3/video.mp4\n"
     ]
    },
    {
     "name": "stderr",
     "output_type": "stream",
     "text": [
      "\n",
      "100%|████████████████████████████████████████████████████████████████████████████████████| 4/4 [01:33<00:00, 23.26s/it]\u001b[A\n",
      " 75%|██████████████████████████████████████████████████████████████▎                    | 6/8 [25:33<07:18, 219.41s/it]\n",
      "  0%|                                                                                           | 0/12 [00:00<?, ?it/s]\u001b[A"
     ]
    },
    {
     "name": "stdout",
     "output_type": "stream",
     "text": [
      "işlenen:   ./video/nexus/video0/video.mp4\n"
     ]
    },
    {
     "name": "stderr",
     "output_type": "stream",
     "text": [
      "\n",
      "  8%|██████▉                                                                            | 1/12 [00:28<05:12, 28.45s/it]\u001b[A"
     ]
    },
    {
     "name": "stdout",
     "output_type": "stream",
     "text": [
      "işlenen:   ./video/nexus/video1/video.mp4\n"
     ]
    },
    {
     "name": "stderr",
     "output_type": "stream",
     "text": [
      "\n",
      " 17%|█████████████▊                                                                     | 2/12 [00:57<04:48, 28.86s/it]\u001b[A"
     ]
    },
    {
     "name": "stdout",
     "output_type": "stream",
     "text": [
      "işlenen:   ./video/nexus/video10/video.mp4\n"
     ]
    },
    {
     "name": "stderr",
     "output_type": "stream",
     "text": [
      "\n",
      " 25%|████████████████████▊                                                              | 3/12 [01:22<04:01, 26.87s/it]\u001b[A"
     ]
    },
    {
     "name": "stdout",
     "output_type": "stream",
     "text": [
      "işlenen:   ./video/nexus/video11/video.mp4\n"
     ]
    },
    {
     "name": "stderr",
     "output_type": "stream",
     "text": [
      "\n",
      " 33%|███████████████████████████▋                                                       | 4/12 [01:48<03:32, 26.52s/it]\u001b[A"
     ]
    },
    {
     "name": "stdout",
     "output_type": "stream",
     "text": [
      "işlenen:   ./video/nexus/video2/video.mp4\n"
     ]
    },
    {
     "name": "stderr",
     "output_type": "stream",
     "text": [
      "\n",
      " 42%|██████████████████████████████████▌                                                | 5/12 [02:11<02:57, 25.39s/it]\u001b[A"
     ]
    },
    {
     "name": "stdout",
     "output_type": "stream",
     "text": [
      "işlenen:   ./video/nexus/video3/video.mp4\n"
     ]
    },
    {
     "name": "stderr",
     "output_type": "stream",
     "text": [
      "\n",
      " 50%|█████████████████████████████████████████▌                                         | 6/12 [02:36<02:31, 25.24s/it]\u001b[A"
     ]
    },
    {
     "name": "stdout",
     "output_type": "stream",
     "text": [
      "işlenen:   ./video/nexus/video4/video.mp4\n"
     ]
    },
    {
     "name": "stderr",
     "output_type": "stream",
     "text": [
      "\n",
      " 58%|████████████████████████████████████████████████▍                                  | 7/12 [03:03<02:08, 25.69s/it]\u001b[A"
     ]
    },
    {
     "name": "stdout",
     "output_type": "stream",
     "text": [
      "işlenen:   ./video/nexus/video5/video.mp4\n"
     ]
    },
    {
     "name": "stderr",
     "output_type": "stream",
     "text": [
      "\n",
      " 67%|███████████████████████████████████████████████████████▎                           | 8/12 [03:05<01:12, 18.23s/it]\u001b[A"
     ]
    },
    {
     "name": "stdout",
     "output_type": "stream",
     "text": [
      "işlenen:   ./video/nexus/video6/video.mp4\n"
     ]
    },
    {
     "name": "stderr",
     "output_type": "stream",
     "text": [
      "\n",
      " 75%|██████████████████████████████████████████████████████████████▎                    | 9/12 [03:08<00:40, 13.38s/it]\u001b[A"
     ]
    },
    {
     "name": "stdout",
     "output_type": "stream",
     "text": [
      "işlenen:   ./video/nexus/video7/video.mp4\n"
     ]
    },
    {
     "name": "stderr",
     "output_type": "stream",
     "text": [
      "\n",
      " 83%|████████████████████████████████████████████████████████████████████▎             | 10/12 [03:10<00:20, 10.03s/it]\u001b[A"
     ]
    },
    {
     "name": "stdout",
     "output_type": "stream",
     "text": [
      "işlenen:   ./video/nexus/video8/video.mp4\n"
     ]
    },
    {
     "name": "stderr",
     "output_type": "stream",
     "text": [
      "\n",
      " 92%|███████████████████████████████████████████████████████████████████████████▏      | 11/12 [03:36<00:15, 15.00s/it]\u001b[A"
     ]
    },
    {
     "name": "stdout",
     "output_type": "stream",
     "text": [
      "işlenen:   ./video/nexus/video9/video.mp4\n"
     ]
    },
    {
     "name": "stderr",
     "output_type": "stream",
     "text": [
      "\n",
      "100%|██████████████████████████████████████████████████████████████████████████████████| 12/12 [04:05<00:00, 20.50s/it]\u001b[A\n",
      " 88%|████████████████████████████████████████████████████████████████████████▋          | 7/8 [29:39<03:48, 228.10s/it]\n",
      "  0%|                                                                                            | 0/4 [00:00<?, ?it/s]\u001b[A"
     ]
    },
    {
     "name": "stdout",
     "output_type": "stream",
     "text": [
      "işlenen:   ./video/quad/video0/video.mp4\n"
     ]
    },
    {
     "name": "stderr",
     "output_type": "stream",
     "text": [
      "\n",
      " 25%|█████████████████████                                                               | 1/4 [00:03<00:10,  3.35s/it]\u001b[A"
     ]
    },
    {
     "name": "stdout",
     "output_type": "stream",
     "text": [
      "işlenen:   ./video/quad/video1/video.mp4\n"
     ]
    },
    {
     "name": "stderr",
     "output_type": "stream",
     "text": [
      "\n",
      " 50%|██████████████████████████████████████████                                          | 2/4 [00:06<00:06,  3.41s/it]\u001b[A"
     ]
    },
    {
     "name": "stdout",
     "output_type": "stream",
     "text": [
      "işlenen:   ./video/quad/video2/video.mp4\n"
     ]
    },
    {
     "name": "stderr",
     "output_type": "stream",
     "text": [
      "\n",
      " 75%|███████████████████████████████████████████████████████████████                     | 3/4 [00:10<00:03,  3.40s/it]\u001b[A"
     ]
    },
    {
     "name": "stdout",
     "output_type": "stream",
     "text": [
      "işlenen:   ./video/quad/video3/video.mp4\n"
     ]
    },
    {
     "name": "stderr",
     "output_type": "stream",
     "text": [
      "\n",
      "100%|████████████████████████████████████████████████████████████████████████████████████| 4/4 [00:13<00:00,  3.42s/it]\u001b[A\n",
      "100%|███████████████████████████████████████████████████████████████████████████████████| 8/8 [29:52<00:00, 224.10s/it]"
     ]
    },
    {
     "name": "stdout",
     "output_type": "stream",
     "text": [
      "Gösterildiği boyut:  None\n",
      "Atlanan kare aralığı: 30\n",
      "Seçilen kare sayısı: 17443\n"
     ]
    },
    {
     "name": "stderr",
     "output_type": "stream",
     "text": [
      "\n"
     ]
    }
   ],
   "source": [
    "root = \"./video\"\n",
    "locations_list =  os.listdir(root)\n",
    "for location in tqdm(locations_list):\n",
    "    video_files_list = os.listdir(path_sequence(root,location))\n",
    "    for video_file in tqdm(video_files_list):\n",
    "        video_path = path_sequence(root,location,video_file,'video.mp4')\n",
    "        print(\"işlenen:  \",video_path)\n",
    "        \n",
    "        \n",
    "        new_frames_path = path_sequence(root,location,video_file,\"frames\")\n",
    "        os.mkdir(new_frames_path)\n",
    "        \n",
    "        \n",
    "        \n",
    "        cap = cv2.VideoCapture(video_path)\n",
    "        frame_counter = 0\n",
    "        while(cap.isOpened()): \n",
    "\n",
    "            ret, frame = cap.read() \n",
    "            if ret == True: \n",
    "                \n",
    "                if draw_metadata != False:\n",
    "                    cv2.putText(frame,video_path,(5,25),cv2.FONT_HERSHEY_SIMPLEX,0.8,(100,100,100))\n",
    "                    cv2.putText(frame,F\"Kare Index:{frame_counter}\",(5,50),cv2.FONT_HERSHEY_SIMPLEX,0.8,(180,113,60))\n",
    "                    cv2.putText(frame, f\"Gosterilen Kare:{chosen_frame_counter}\",(5,75),cv2.FONT_HERSHEY_SIMPLEX,0.8,(180,113,60))\n",
    "                \n",
    "                \n",
    "                if frame_counter % frame_interval == 0:\n",
    "                    chosen_frame_counter += 1\n",
    "                    if showing_shape != None:\n",
    "                        frame = cv2.resize(frame,showing_shape)\n",
    "                    if show_video == True:\n",
    "                        cv2.imshow('Frame', frame)\n",
    "                    if save_frames:\n",
    "                        cv2.imwrite(path_sequence(new_frames_path,f\"{frame_counter}.jpg\"),frame)\n",
    "                    \n",
    "                if show_video == True:\n",
    "                    if cv2.waitKey(1) & 0xFF == ord('q'): \n",
    "                        break\n",
    "\n",
    "                frame_counter += 1\n",
    "            else: \n",
    "                break\n",
    "\n",
    "        cap.release() \n",
    "\n",
    "\n",
    "cv2.destroyAllWindows() \n",
    "\n",
    "print(\"Gösterildiği boyut: \",showing_shape)\n",
    "print(\"Atlanan kare aralığı:\",frame_interval)\n",
    "print(\"Seçilen kare sayısı:\",chosen_frame_counter)"
   ]
  },
  {
   "cell_type": "markdown",
   "id": "515610a2",
   "metadata": {},
   "source": [
    "Gösterildiği boyut:  None\n",
    "Atlanan kare aralığı: 30\n",
    "Seçilen kare sayısı: 17443"
   ]
  }
 ],
 "metadata": {
  "kernelspec": {
   "display_name": "Python 3 (ipykernel)",
   "language": "python",
   "name": "python3"
  },
  "language_info": {
   "codemirror_mode": {
    "name": "ipython",
    "version": 3
   },
   "file_extension": ".py",
   "mimetype": "text/x-python",
   "name": "python",
   "nbconvert_exporter": "python",
   "pygments_lexer": "ipython3",
   "version": "3.9.16"
  }
 },
 "nbformat": 4,
 "nbformat_minor": 5
}
